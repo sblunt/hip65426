{
 "cells": [
  {
   "cell_type": "markdown",
   "id": "cf9f84da-88d3-4e5c-86e5-2b701cb87181",
   "metadata": {},
   "source": [
    "## Notes\n",
    "\n",
    "This notebook only contains fitting and plotting code for the observed spectrum of HIP 65426 b as of January 2023, for the ExoGRAVITY collaboration. It does not include the code used to extract or flux calibrate this spectrum. The spectrum was extracted from one night of GRAVITY data for which there is a reliable on-axis observation, namely the Jan. 7th, 2021 observation of the system. The spectrum was extracted using the currently (as of Jan. 2023) ExoGRAVITY pipeline (see Appendix B in Nowak et al. 2020 for an outline of the data reduction steps), and flux calibrated using a BT-NextGen spectrum fit to archive photometry of the host, and scaled to match the SPHERE K1 photometry (about a factor of 0.5) of the companion. For more information on this, text for your paper, or for additional plots, contact W. Balmer :~)\n",
    "\n",
    "This notebook assumes you have installed $\\texttt{species}$, a toolkit for analyzing direct imaging observations. You can therefore change the model you fit to the observations (by default, the BT-Settl-Cifist model worked well when I was working on this target for the JWST ERS paper, but there are others listed on the species webpage), the number of live points, etc. and can save plots of the posterior of fit parameters, and the spectrum. "
   ]
  },
  {
   "cell_type": "code",
   "execution_count": 1,
   "id": "b0dec025-33ec-4fb4-b5fb-d576d81a25e0",
   "metadata": {},
   "outputs": [],
   "source": [
    "import numpy as np\n",
    "import os\n",
    "import pandas as pd\n",
    "import matplotlib.pyplot as plt\n",
    "import spectres"
   ]
  },
  {
   "cell_type": "code",
   "execution_count": 2,
   "id": "15476709-f65a-45a7-b768-4bc019749cd8",
   "metadata": {},
   "outputs": [
    {
     "name": "stderr",
     "output_type": "stream",
     "text": [
      "/data/user/sblunt/miniconda3/envs/python3.8/lib/python3.8/site-packages/species/analysis/emission_line.py:18: UserWarning: UltraNest could not be imported. Perhaps because cython was not correctly compiled?\n",
      "  warnings.warn(\n",
      "WARNING: AstropyDeprecationWarning: The update_default_config function is deprecated and may be removed in a future version. [astroquery._astropy_init]\n"
     ]
    },
    {
     "name": "stdout",
     "output_type": "stream",
     "text": [
      "\n",
      "ERROR:   Could not load MultiNest library \"libmultinest.so\"\n",
      "ERROR:   You have to build it first,\n",
      "ERROR:   and point the LD_LIBRARY_PATH environment variable to it!\n",
      "ERROR:   manual: http://johannesbuchner.github.com/PyMultiNest/install.html\n",
      "\n",
      "\n",
      "ERROR:   Could not load MultiNest library: libmultinest.so\n",
      "ERROR:   You have to build MultiNest,\n",
      "ERROR:   and point the LD_LIBRARY_PATH environment variable to it!\n",
      "ERROR:   manual: http://johannesbuchner.github.com/PyMultiNest/install.html\n",
      "\n",
      "problem: libmultinest.so: cannot open shared object file: No such file or directory\n",
      "\n",
      "ERROR:   Could not load MultiNest library \"libmultinest.so\"\n",
      "ERROR:   You have to build it first,\n",
      "ERROR:   and point the LD_LIBRARY_PATH environment variable to it!\n",
      "ERROR:   manual: http://johannesbuchner.github.com/PyMultiNest/install.html\n",
      "\n",
      "\n",
      "ERROR:   Could not load MultiNest library: libmultinest.so\n",
      "ERROR:   You have to build MultiNest,\n",
      "ERROR:   and point the LD_LIBRARY_PATH environment variable to it!\n",
      "ERROR:   manual: http://johannesbuchner.github.com/PyMultiNest/install.html\n",
      "\n",
      "problem: libmultinest.so: cannot open shared object file: No such file or directory\n",
      "Initiating species v0.5.4... [DONE]\n",
      "A new version (0.5.5) is available!\n",
      "Want to stay informed about updates?\n",
      "Please have a look at the Github page:\n",
      "https://github.com/tomasstolker/species\n",
      "Database: /data/user/sblunt/HIP_65426/species_database.hdf5\n",
      "Data folder: /data/user/sblunt/HIP_65426/data\n",
      "Working folder: /data/user/sblunt/HIP_65426\n",
      "Grid interpolation method: linear\n"
     ]
    },
    {
     "name": "stderr",
     "output_type": "stream",
     "text": [
      "/data/user/sblunt/miniconda3/envs/python3.8/lib/python3.8/site-packages/species/analysis/fit_model.py:18: UserWarning: UltraNest could not be imported. Perhaps because cython was not correctly compiled?\n",
      "  warnings.warn(\n",
      "/data/user/sblunt/miniconda3/envs/python3.8/lib/python3.8/site-packages/species/analysis/fit_model.py:26: UserWarning: PyMultiNest could not be imported. Perhaps because MultiNest was not build and/or found at the LD_LIBRARY_PATH (Linux) or DYLD_LIBRARY_PATH (Mac)?\n",
      "  warnings.warn(\n",
      "/data/user/sblunt/miniconda3/envs/python3.8/lib/python3.8/site-packages/species/analysis/retrieval.py:26: UserWarning: PyMultiNest could not be imported. Perhaps because MultiNest was not build and/or found at the LD_LIBRARY_PATH (Linux) or DYLD_LIBRARY_PATH (Mac)?\n",
      "  warnings.warn(\n"
     ]
    }
   ],
   "source": [
    "# initialize species\n",
    "# this notebook will work, even if you have a clean installation of the package\n",
    "# see https://species.readthedocs.io/ for more\n",
    "import species\n",
    "species.SpeciesInit()\n",
    "database = species.Database()"
   ]
  },
  {
   "cell_type": "code",
   "execution_count": 3,
   "id": "8136200b-d69b-4c8b-bbb1-d3f33d593825",
   "metadata": {},
   "outputs": [
    {
     "name": "stderr",
     "output_type": "stream",
     "text": [
      "/data/user/sblunt/miniconda3/envs/python3.8/lib/python3.8/site-packages/ipykernel/ipkernel.py:287: DeprecationWarning: `should_run_async` will not call `transform_cell` automatically in the future. Please pass the result to `transformed_cell` argument and any exception that happen during thetransform in `preprocessing_exc_tuple` in IPython 7.17 and above.\n",
      "  and should_run_async(code)\n"
     ]
    }
   ],
   "source": [
    "include_gravity = True\n",
    "include_sinfoni = True\n",
    "include_jwst = False\n",
    "sphere_gp = True\n",
    "teff_lowprior = False\n",
    "teff_hiprior = False\n",
    "model_choice = 'bt-settl-cifist'\n",
    "\n",
    "filepref = 'results/'\n",
    "if include_gravity:\n",
    "    filepref += 'gravity_'\n",
    "if include_sinfoni:\n",
    "    filepref += 'sinfoni_'\n",
    "if include_jwst:\n",
    "    filepref += 'jwst_'\n",
    "if not sphere_gp:\n",
    "    filepref += 'nosphereGP_'\n",
    "if teff_lowprior:\n",
    "    filepref += 'tefflo_'\n",
    "if teff_hiprior:\n",
    "    filepref += 'teffhi_'\n",
    "\n",
    "filepref += '{}/'.format(model_choice)\n",
    "if not os.path.isdir(filepref):\n",
    "    os.mkdir(filepref)\n",
    "if not os.path.isdir('{}multinest/'.format(filepref)):\n",
    "    os.mkdir('{}multinest/'.format(filepref))"
   ]
  },
  {
   "cell_type": "code",
   "execution_count": 4,
   "id": "7bf2bfb4-079a-4c16-9db9-8db596ae8d3d",
   "metadata": {},
   "outputs": [
    {
     "name": "stderr",
     "output_type": "stream",
     "text": [
      "/data/user/sblunt/miniconda3/envs/python3.8/lib/python3.8/site-packages/ipykernel/ipkernel.py:287: DeprecationWarning: `should_run_async` will not call `transform_cell` automatically in the future. Please pass the result to `transformed_cell` argument and any exception that happen during thetransform in `preprocessing_exc_tuple` in IPython 7.17 and above.\n",
      "  and should_run_async(code)\n"
     ]
    }
   ],
   "source": [
    "# download and shape up the HIP 65426 b SPHERE spectrum\n",
    "import urllib.request\n",
    "\n",
    "urllib.request.urlretrieve(\n",
    "    'https://home.strw.leidenuniv.nl/~stolker/species/spectra/hip65426_sphere_yjh.dat', \n",
    "    'data/hip65426_sphere_yjh.dat'\n",
    ")\n",
    "\n",
    "sphere_yjh = pd.read_csv('data/hip65426_sphere_yjh.dat', delim_whitespace=True, comment='#', names=['l','f','fe'])\n",
    "sphere_yjh = sphere_yjh[2:]\n",
    "sphere_yjh.to_csv('data/hip65426_sphere_yjh.dat', sep=' ', header=False, index=False)\n",
    "\n",
    "# shape up the SINFONI spectrum\n",
    "sinfoni = pd.read_csv('data/HIP_65426_B_final_noLSS_spec.txt', comment='#', delim_whitespace=True, usecols=[0,1,2,6], names=['l', 'f', 'fe', 'inst'])\n",
    "sinfoni = sinfoni[sinfoni.inst == 'SINFONI-K']\n",
    "sinfoni[['l','f','fe']].to_csv('data/sinfoni.dat', sep=' ', header=False, index=False)"
   ]
  },
  {
   "cell_type": "code",
   "execution_count": 5,
   "id": "1f3690f9-1f70-4c51-aaaf-898b9eab9bd8",
   "metadata": {},
   "outputs": [
    {
     "name": "stderr",
     "output_type": "stream",
     "text": [
      "/data/user/sblunt/miniconda3/envs/python3.8/lib/python3.8/site-packages/ipykernel/ipkernel.py:287: DeprecationWarning: `should_run_async` will not call `transform_cell` automatically in the future. Please pass the result to `transformed_cell` argument and any exception that happen during thetransform in `preprocessing_exc_tuple` in IPython 7.17 and above.\n",
      "  and should_run_async(code)\n"
     ]
    }
   ],
   "source": [
    "plx = (9.3031,0.0346) # Gaia DR3"
   ]
  },
  {
   "cell_type": "code",
   "execution_count": 6,
   "id": "2191409d-ffcf-4967-88f5-0232acfe3543",
   "metadata": {
    "jupyter": {
     "outputs_hidden": true
    },
    "tags": []
   },
   "outputs": [
    {
     "name": "stderr",
     "output_type": "stream",
     "text": [
      "/data/user/sblunt/miniconda3/envs/python3.8/lib/python3.8/site-packages/ipykernel/ipkernel.py:287: DeprecationWarning: `should_run_async` will not call `transform_cell` automatically in the future. Please pass the result to `transformed_cell` argument and any exception that happen during thetransform in `preprocessing_exc_tuple` in IPython 7.17 and above.\n",
      "  and should_run_async(code)\n"
     ]
    },
    {
     "name": "stdout",
     "output_type": "stream",
     "text": [
      "Adding object: HIP 65426 b\n",
      "   - Spectrum:\n",
      "      - Database tag: SPHERE_IFU\n",
      "      - Filename: data/hip65426_sphere_yjh.dat\n",
      "      - Data shape: (37, 3)\n",
      "      - Wavelength range (um): 0.99 - 1.64\n",
      "      - Mean flux (W m-2 um-1): 5.54e-17\n",
      "      - Mean error (W m-2 um-1): 5.45e-18\n",
      "   - Spectrum:\n",
      "      - Database tag: SINFONI-K\n",
      "      - Filename: data/sinfoni.dat\n",
      "      - Data shape: (1979, 3)\n",
      "      - Wavelength range (um): 1.97 - 2.45\n",
      "      - Mean flux (W m-2 um-1): 6.26e-17\n",
      "      - Mean error (W m-2 um-1): 2.97e-17\n",
      "   - GRAVITY spectrum:\n",
      "      - Object: HIP 65426 B\n",
      "      - Database tag: GRAVITY\n",
      "      - Filename: data/HIP65426B_GRAVITYK_spectrum_fluxcal_scaled.fits\n",
      "      - Data shape: (192, 3)\n",
      "      - Wavelength range (um): 2.05 - 2.48\n",
      "      - Mean flux (W m-2 um-1): 6.48e-17\n",
      "      - Mean error (W m-2 um-1): 1.60e-17\n",
      "   - GRAVITY covariance matrix:\n",
      "      - Object: HIP 65426 B\n",
      "      - Database tag: GRAVITY\n",
      "      - Filename: data/HIP65426B_GRAVITYK_spectrum_fluxcal_scaled.fits\n",
      "      - Data shape: (192, 192)\n",
      "   - Spectral resolution:\n",
      "      - SPHERE_IFU: 40.0\n",
      "      - SINFONI-K: 5577.0\n",
      "      - GRAVITY: 500.0\n"
     ]
    }
   ],
   "source": [
    "spectrum = {\n",
    "  'SPHERE_IFU': ('data/hip65426_sphere_yjh.dat', None, 40.),\n",
    "}\n",
    "\n",
    "if include_sinfoni:\n",
    "  spectrum['SINFONI-K'] =  ('data/sinfoni.dat', None, 5577.)\n",
    "\n",
    "if include_gravity:\n",
    "  spectrum['GRAVITY'] = (\n",
    "    'data/HIP65426B_GRAVITYK_spectrum_fluxcal_scaled.fits', \n",
    "    'data/HIP65426B_GRAVITYK_spectrum_fluxcal_scaled.fits', \n",
    "    500.\n",
    "  )\n",
    "\n",
    "database.add_object(\n",
    "  'HIP 65426 b',\n",
    "  parallax=None, app_mag=None, flux_density=None,\n",
    "  spectrum=spectrum, deredden=None\n",
    ")"
   ]
  },
  {
   "cell_type": "code",
   "execution_count": 7,
   "id": "807d765b-5b14-401b-8eb3-5cc128294a79",
   "metadata": {
    "jupyter": {
     "outputs_hidden": true
    },
    "tags": []
   },
   "outputs": [
    {
     "name": "stderr",
     "output_type": "stream",
     "text": [
      "/data/user/sblunt/miniconda3/envs/python3.8/lib/python3.8/site-packages/ipykernel/ipkernel.py:287: DeprecationWarning: `should_run_async` will not call `transform_cell` automatically in the future. Please pass the result to `transformed_cell` argument and any exception that happen during thetransform in `preprocessing_exc_tuple` in IPython 7.17 and above.\n",
      "  and should_run_async(code)\n",
      "WARNING: AstropyDeprecationWarning: \"pedantic\" was deprecated in version 5.0 and will be removed in a future version. Use argument \"verify\" instead. [astropy.io.votable.table]\n"
     ]
    },
    {
     "name": "stdout",
     "output_type": "stream",
     "text": [
      "Adding object: HIP 65426 b\n",
      "   - Parallax (mas) = 9.30 +/- 0.03\n",
      "   - Paranal/SPHERE.IRDIS_D_H23_2:\n",
      "      - Apparent magnitude = 17.94 +/- 0.05\n",
      "      - Flux (W m-2 um-1) = 8.73e-17 +/- 4.02e-18\n",
      "   - Paranal/SPHERE.IRDIS_D_H23_3:\n",
      "      - Apparent magnitude = 17.58 +/- 0.06\n",
      "      - Flux (W m-2 um-1) = 1.03e-16 +/- 5.70e-18\n",
      "   - Paranal/SPHERE.IRDIS_D_K12_1:\n",
      "      - Apparent magnitude = 17.01 +/- 0.09\n",
      "      - Flux (W m-2 um-1) = 7.63e-17 +/- 6.33e-18\n",
      "   - Paranal/SPHERE.IRDIS_D_K12_2:\n",
      "      - Apparent magnitude = 16.79 +/- 0.09\n",
      "      - Flux (W m-2 um-1) = 7.21e-17 +/- 5.98e-18\n",
      "   - Paranal/NACO.Lp:\n",
      "      - Apparent magnitude = 15.33 +/- 0.12\n",
      "      - Flux (W m-2 um-1) = 3.88e-17 +/- 4.30e-18\n",
      "   - Paranal/NACO.NB405:\n",
      "      - Apparent magnitude = 15.23 +/- 0.22\n",
      "      - Flux (W m-2 um-1) = 3.21e-17 +/- 6.55e-18\n",
      "   - Paranal/NACO.Mp:\n",
      "      - Apparent magnitude = 14.65 +/- 0.29\n",
      "      - Flux (W m-2 um-1) = 2.99e-17 +/- 8.07e-18\n",
      "Getting object: HIP 65426 b... [DONE]\n"
     ]
    }
   ],
   "source": [
    "# add archival companion photometry\n",
    "database.add_companion(name='HIP 65426 b')\n",
    "objectbox = database.get_object(object_name='HIP 65426 b')"
   ]
  },
  {
   "cell_type": "code",
   "execution_count": 8,
   "id": "e592862b",
   "metadata": {},
   "outputs": [
    {
     "name": "stdout",
     "output_type": "stream",
     "text": [
      "\n",
      "Spectres: new_wavs contains values outside the range in spec_wavs, new_fluxes and new_errs will be filled with the value set in the 'fill' keyword argument. \n",
      "\n"
     ]
    },
    {
     "name": "stderr",
     "output_type": "stream",
     "text": [
      "/data/user/sblunt/miniconda3/envs/python3.8/lib/python3.8/site-packages/ipykernel/ipkernel.py:287: DeprecationWarning: `should_run_async` will not call `transform_cell` automatically in the future. Please pass the result to `transformed_cell` argument and any exception that happen during thetransform in `preprocessing_exc_tuple` in IPython 7.17 and above.\n",
      "  and should_run_async(code)\n",
      "<>:28: DeprecationWarning: invalid escape sequence \\l\n",
      "<>:29: DeprecationWarning: invalid escape sequence \\m\n",
      "<>:30: DeprecationWarning: invalid escape sequence \\m\n",
      "<>:28: DeprecationWarning: invalid escape sequence \\l\n",
      "<>:29: DeprecationWarning: invalid escape sequence \\m\n",
      "<>:30: DeprecationWarning: invalid escape sequence \\m\n",
      "<ipython-input-8-c4e63d0dd39d>:28: DeprecationWarning: invalid escape sequence \\l\n",
      "  ax[1].set_xlabel('$\\lambda$ [$\\mu$m]')\n",
      "<ipython-input-8-c4e63d0dd39d>:29: DeprecationWarning: invalid escape sequence \\m\n",
      "  ax[0].set_ylabel('flux [W m$^{-2}$ $\\mu$m$^{-1}$]')\n",
      "<ipython-input-8-c4e63d0dd39d>:30: DeprecationWarning: invalid escape sequence \\m\n",
      "  ax[1].set_ylabel('flux [W m$^{-2}$ $\\mu$m$^{-1}$]')\n"
     ]
    },
    {
     "data": {
      "image/png": "[encoded data removed]",
      "text/plain": [
       "<Figure size 576x288 with 2 Axes>"
      ]
     },
     "metadata": {
      "needs_background": "light"
     },
     "output_type": "display_data"
    }
   ],
   "source": [
    "if include_gravity and include_sinfoni:\n",
    "\n",
    "    # make a plot comparing the SINFONI and GRAVITY spectra\n",
    "    gravity_spectrum = objectbox.spectrum['GRAVITY'][0]\n",
    "    sinfoni_spectrum = objectbox.spectrum['SINFONI-K'][0]\n",
    "\n",
    "    fig, ax = plt.subplots(2, 1, figsize=(8,4), sharex=True)\n",
    "    plt.subplots_adjust(hspace=0)\n",
    "    offset = 0\n",
    "\n",
    "    ax[0].fill_between(gravity_spectrum[:,0], offset + gravity_spectrum[:,1] + gravity_spectrum[:,2], offset + gravity_spectrum[:,1] - gravity_spectrum[:,2], color='k', alpha=0.5, label='GRAVITY')\n",
    "\n",
    "    # downsample the SINFONI data to directly compare with GRAVITY\n",
    "    sinfoni_equivalent_flux = np.zeros(len(gravity_spectrum))\n",
    "\n",
    "    gravity_wavelength = gravity_spectrum[:,0]\n",
    "    gravity_dlambda = gravity_wavelength[1] - gravity_wavelength[0]\n",
    "    sinfoni_dlambda = sinfoni_spectrum[1,0] - sinfoni_spectrum[0,0]\n",
    "\n",
    "    sinfoni_equivalent_flux, sinfoni_equivalent_flux_errs = spectres.spectres(gravity_wavelength, sinfoni_spectrum[:,0], sinfoni_spectrum[:,1], sinfoni_spectrum[:,2], fill=0)\n",
    "\n",
    "    ax[0].fill_between(\n",
    "        gravity_wavelength[sinfoni_equivalent_flux>0], \n",
    "        offset + sinfoni_equivalent_flux[sinfoni_equivalent_flux>0] + sinfoni_equivalent_flux_errs[sinfoni_equivalent_flux>0],\n",
    "        offset + sinfoni_equivalent_flux[sinfoni_equivalent_flux>0] - sinfoni_equivalent_flux_errs[sinfoni_equivalent_flux>0], color='rebeccapurple', alpha=0.5, label='SINFONI (resampled)'\n",
    "    )\n",
    "\n",
    "    ax[1].set_xlabel('$\\lambda$ [$\\mu$m]')\n",
    "    ax[0].set_ylabel('flux [W m$^{-2}$ $\\mu$m$^{-1}$]')\n",
    "    ax[1].set_ylabel('flux [W m$^{-2}$ $\\mu$m$^{-1}$]')\n",
    "\n",
    "    ax[0].set_yticks([0, 5e-17, 10e-17])\n",
    "\n",
    "    ax[1].set_yticks([-5e-17, 0, 5e-17])\n",
    "    ax[0].legend()\n",
    "\n",
    "    residuals = gravity_spectrum[:,1][sinfoni_equivalent_flux>0] - sinfoni_equivalent_flux[sinfoni_equivalent_flux>0]\n",
    "    residual_errors = np.sqrt(gravity_spectrum[:,2][sinfoni_equivalent_flux>0]**2 + sinfoni_equivalent_flux_errs[sinfoni_equivalent_flux>0]**2)\n",
    "\n",
    "    ax[1].axhline(0, color='k', ls='--')\n",
    "    ax[1].fill_between(\n",
    "        gravity_wavelength[sinfoni_equivalent_flux>0],\n",
    "        residuals + residual_errors, residuals - residual_errors, color='purple', alpha=0.1, label='residuals'\n",
    "    )\n",
    "    ax[1].legend()\n",
    "    plt.savefig('results/plots/gravity_vs_sinfoni.png', dpi=250)"
   ]
  },
  {
   "cell_type": "code",
   "execution_count": 9,
   "id": "a2567437-b7a4-4409-8fa5-cc4308d00db1",
   "metadata": {
    "jupyter": {
     "outputs_hidden": true
    },
    "tags": []
   },
   "outputs": [
    {
     "name": "stdout",
     "output_type": "stream",
     "text": [
      "Adding object: HIP 65426 b\n",
      "   - Parallax (mas) = 9.30 +/- 0.03\n",
      "   - JWST/NIRCAM.F250M:\n",
      "      - Apparent magnitude = 17.16 +/- 0.14\n",
      "      - Flux (W m-2 um-1) = 3.45e-17 +/- 4.46e-18\n",
      "   - JWST/NIRCAM.F300M:\n",
      "      - Apparent magnitude = 16.83 +/- 0.12\n",
      "      - Flux (W m-2 um-1) = 2.42e-17 +/- 2.61e-18\n",
      "   - JWST/NIRCAM.F356W:\n",
      "      - Apparent magnitude = 16.07 +/- 0.12\n",
      "      - Flux (W m-2 um-1) = 2.51e-17 +/- 2.66e-18\n",
      "   - JWST/NIRCAM.F410M:\n",
      "      - Apparent magnitude = 15.78 +/- 0.12\n",
      "      - Flux (W m-2 um-1) = 1.92e-17 +/- 2.13e-18\n",
      "   - JWST/NIRCAM.F444W:\n",
      "      - Apparent magnitude = 15.70 +/- 0.13\n",
      "      - Flux (W m-2 um-1) = 1.57e-17 +/- 1.82e-18\n",
      "   - JWST/MIRI.F1140C:\n",
      "      - Apparent magnitude = 15.36 +/- 0.09\n",
      "      - Flux (W m-2 um-1) = 5.25e-19 +/- 4.50e-20\n",
      "   - JWST/MIRI.F1550C:\n",
      "      - Apparent magnitude = 15.20 +/- 0.18\n",
      "      - Flux (W m-2 um-1) = 1.74e-19 +/- 2.85e-20\n",
      "Deleting data: objects/HIP 65426 b/JWST/MIRI.F1550C... [DONE]\n",
      "Deleting data: objects/HIP 65426 b/JWST/MIRI.F1140C... [DONE]\n",
      "Deleting data: objects/HIP 65426 b/JWST/NIRCAM.F444W... [DONE]\n",
      "Deleting data: objects/HIP 65426 b/JWST/NIRCAM.F410M... [DONE]\n",
      "Deleting data: objects/HIP 65426 b/JWST/NIRCAM.F356W... [DONE]\n",
      "Deleting data: objects/HIP 65426 b/JWST/NIRCAM.F300M... [DONE]\n",
      "Deleting data: objects/HIP 65426 b/JWST/NIRCAM.F250M... [DONE]\n"
     ]
    },
    {
     "name": "stderr",
     "output_type": "stream",
     "text": [
      "/data/user/sblunt/miniconda3/envs/python3.8/lib/python3.8/site-packages/ipykernel/ipkernel.py:287: DeprecationWarning: `should_run_async` will not call `transform_cell` automatically in the future. Please pass the result to `transformed_cell` argument and any exception that happen during thetransform in `preprocessing_exc_tuple` in IPython 7.17 and above.\n",
      "  and should_run_async(code)\n"
     ]
    }
   ],
   "source": [
    "database.add_object(\n",
    "        'HIP 65426 b',\n",
    "        parallax=plx,\n",
    "        app_mag={ # Carter et al. ERS vegamag\n",
    "                'JWST/NIRCAM.F250M':(17.163, 0.140),\n",
    "                'JWST/NIRCAM.F300M':(16.827, 0.117),\n",
    "                'JWST/NIRCAM.F356W':(16.067, 0.115),\n",
    "                'JWST/NIRCAM.F410M':(15.781, 0.120),\n",
    "                'JWST/NIRCAM.F444W':(15.701, 0.126),\n",
    "                'JWST/MIRI.F1140C':(15.357, 0.093),\n",
    "                'JWST/MIRI.F1550C':(15.197, 0.177)\n",
    "        },\n",
    "        spectrum=None, deredden=None)\n",
    "\n",
    "if not include_jwst:\n",
    "        database.delete_data('objects/HIP 65426 b/JWST/MIRI.F1550C')\n",
    "        database.delete_data('objects/HIP 65426 b/JWST/MIRI.F1140C')\n",
    "        database.delete_data('objects/HIP 65426 b/JWST/NIRCAM.F444W')\n",
    "        database.delete_data('objects/HIP 65426 b/JWST/NIRCAM.F410M')\n",
    "        database.delete_data('objects/HIP 65426 b/JWST/NIRCAM.F356W')\n",
    "        database.delete_data('objects/HIP 65426 b/JWST/NIRCAM.F300M')\n",
    "        database.delete_data('objects/HIP 65426 b/JWST/NIRCAM.F250M')\n"
   ]
  },
  {
   "cell_type": "code",
   "execution_count": 10,
   "id": "c0c6a144-6e60-4fb3-8fc4-0433977888e4",
   "metadata": {},
   "outputs": [
    {
     "name": "stdout",
     "output_type": "stream",
     "text": [
      "Unpacking BT-Settl CIFIST model spectra (1.4 GB)..."
     ]
    },
    {
     "name": "stderr",
     "output_type": "stream",
     "text": [
      "/data/user/sblunt/miniconda3/envs/python3.8/lib/python3.8/site-packages/ipykernel/ipkernel.py:287: DeprecationWarning: `should_run_async` will not call `transform_cell` automatically in the future. Please pass the result to `transformed_cell` argument and any exception that happen during thetransform in `preprocessing_exc_tuple` in IPython 7.17 and above.\n",
      "  and should_run_async(code)\n"
     ]
    },
    {
     "name": "stdout",
     "output_type": "stream",
     "text": [
      " [DONE]\n",
      "Wavelength range (um) = 0.1 - 5000\n",
      "Spectral resolution = 20000\n",
      "Teff range (K) = 1200.0 - 2000.0\n",
      "Adding BT-Settl CIFIST model spectra... [DONE]                                     \n",
      "Grid points stored in the database:\n",
      "   - Teff = [1200. 1300. 1400. 1500. 1600. 1700. 1800. 1900. 2000.]\n",
      "   - log(g) = [3.  3.5 4.  4.5 5.  5.5]\n"
     ]
    }
   ],
   "source": [
    "database.add_model(model=model_choice, teff_range=(1200., 2000.))"
   ]
  },
  {
   "cell_type": "code",
   "execution_count": 94,
   "id": "cf058d27",
   "metadata": {},
   "outputs": [
    {
     "name": "stderr",
     "output_type": "stream",
     "text": [
      "/data/user/sblunt/miniconda3/envs/python3.8/lib/python3.8/site-packages/ipykernel/ipkernel.py:287: DeprecationWarning: `should_run_async` will not call `transform_cell` automatically in the future. Please pass the result to `transformed_cell` argument and any exception that happen during thetransform in `preprocessing_exc_tuple` in IPython 7.17 and above.\n",
      "  and should_run_async(code)\n"
     ]
    }
   ],
   "source": [
    "# <3 tinygp <3 we stan\n",
    "import tinygp\n",
    "import jax.numpy as jnp\n",
    "import jax\n",
    "jax.config.update(\"jax_enable_x64\", True)\n",
    "\n",
    "class JasonWangKernel(tinygp.kernels.Kernel):\n",
    "    def __init__(self, length_scale, f_amp):\n",
    "        self.length_scale = length_scale\n",
    "        self.f_amp = f_amp\n",
    "\n",
    "    def evaluate(self, X1, X2):\n",
    "\n",
    "        tau = jnp.abs(X1[1] - X2[1])\n",
    "        exp_sq = self.f_amp**2 * X1[0] * X2[0] * jnp.exp(-0.5 * (tau / self.length_scale)**2)\n",
    "\n",
    "        return exp_sq\n",
    "\n",
    "\n",
    "def gp_predict(wavelen, flux_resid, flux_err, f_amp, length_scale):\n",
    "    \n",
    "    kernel = JasonWangKernel(length_scale, f_amp)\n",
    "\n",
    "    X = (jnp.array(flux_err), jnp.array(wavelen))\n",
    "    gp = tinygp.GaussianProcess(kernel, X, diag=(1 - f_amp**2) * flux_err**2)\n",
    "    gp_cond = gp.condition(flux_resid, X, diag=(1 - f_amp**2) * flux_err**2).gp\n",
    "    mu, stddev = gp_cond.loc, np.sqrt(gp_cond.variance)\n",
    "    return mu, stddev"
   ]
  },
  {
   "cell_type": "code",
   "execution_count": 119,
   "id": "d4cd73ee",
   "metadata": {},
   "outputs": [
    {
     "name": "stderr",
     "output_type": "stream",
     "text": [
      "/data/user/sblunt/miniconda3/envs/python3.8/lib/python3.8/site-packages/ipykernel/ipkernel.py:287: DeprecationWarning: `should_run_async` will not call `transform_cell` automatically in the future. Please pass the result to `transformed_cell` argument and any exception that happen during thetransform in `preprocessing_exc_tuple` in IPython 7.17 and above.\n",
      "  and should_run_async(code)\n",
      "<>:43: DeprecationWarning: invalid escape sequence \\m\n",
      "<>:44: DeprecationWarning: invalid escape sequence \\m\n",
      "<>:44: DeprecationWarning: invalid escape sequence \\m\n",
      "<>:43: DeprecationWarning: invalid escape sequence \\m\n",
      "<>:44: DeprecationWarning: invalid escape sequence \\m\n",
      "<>:44: DeprecationWarning: invalid escape sequence \\m\n",
      "<ipython-input-119-ddde17a0cc6e>:43: DeprecationWarning: invalid escape sequence \\m\n",
      "  ax[0].set_ylabel('flux [W m$^{-2}$ $\\mu$m$^{-1}$]')\n",
      "<ipython-input-119-ddde17a0cc6e>:44: DeprecationWarning: invalid escape sequence \\m\n",
      "  ax[1].set_ylabel('flux [W m$^{-2}$ $\\mu$m$^{-1}$]'); ax[2].set_ylabel('flux [W m$^{-2}$ $\\mu$m$^{-1}$]')\n",
      "<ipython-input-119-ddde17a0cc6e>:44: DeprecationWarning: invalid escape sequence \\m\n",
      "  ax[1].set_ylabel('flux [W m$^{-2}$ $\\mu$m$^{-1}$]'); ax[2].set_ylabel('flux [W m$^{-2}$ $\\mu$m$^{-1}$]')\n",
      "<ipython-input-119-ddde17a0cc6e>:25: FutureWarning: `rcond` parameter will change to the default of machine precision times ``max(M, N)`` where M and N are the input matrix dimensions.\n",
      "To use the future default and silence this warning we advise to pass `rcond=None`, to keep using the old, explicitly pass `rcond=-1`.\n",
      "  best_m, _, _, _ = np.linalg.lstsq(m1_flux.reshape(len(m1_flux,),1), sphere_spectrum[:,1].reshape(len(m1_flux,),1))\n",
      "<ipython-input-119-ddde17a0cc6e>:25: FutureWarning: `rcond` parameter will change to the default of machine precision times ``max(M, N)`` where M and N are the input matrix dimensions.\n",
      "To use the future default and silence this warning we advise to pass `rcond=None`, to keep using the old, explicitly pass `rcond=-1`.\n",
      "  best_m, _, _, _ = np.linalg.lstsq(m1_flux.reshape(len(m1_flux,),1), sphere_spectrum[:,1].reshape(len(m1_flux,),1))\n"
     ]
    },
    {
     "data": {
      "image/png": "[encoded data removed]",
      "text/plain": [
       "<Figure size 576x648 with 3 Axes>"
      ]
     },
     "metadata": {
      "needs_background": "light"
     },
     "output_type": "display_data"
    }
   ],
   "source": [
    "\n",
    "\n",
    "# plot the two modes of the BT-SETTL CIFIST spectrum over the SPHERE data\n",
    "teff1, teff2=1400, 1700\n",
    "logg1, logg2=4.0, 4.5\n",
    "\n",
    "fig, ax = plt.subplots(3,1, sharex=True, figsize=(8,9))\n",
    "plt.subplots_adjust(hspace=0)\n",
    "plt.xlim(0.9,1.8)\n",
    "\n",
    "sphere_spectrum = objectbox.spectrum['SPHERE_IFU'][0]\n",
    "ax[0].errorbar(sphere_spectrum[:,0], sphere_spectrum[:,1], sphere_spectrum[:,2], ls='', fmt='o', color='skyblue')\n",
    "\n",
    "fmts = [{'color':'purple', 'ls':'--'}, {'color':'hotpink', 'ls':'-'}]\n",
    "\n",
    "for i, teff, logg in zip((0,1), (teff1, teff2), (logg1, logg2)):\n",
    "    model = pd.read_csv(\n",
    "        'data/bt-settl-cifist/bt-settl-cifist_teff_{}_logg_{}_spec.dat'.format(teff, logg), \n",
    "        names=['wl','flux'], comment='#', delim_whitespace=True\n",
    "    )\n",
    "\n",
    "    m1_flux = spectres.spectres(\n",
    "        sphere_spectrum[:,0], \n",
    "        model.wl.values, \n",
    "        model.flux.values\n",
    "    )\n",
    "    best_m, _, _, _ = np.linalg.lstsq(m1_flux.reshape(len(m1_flux,),1), sphere_spectrum[:,1].reshape(len(m1_flux,),1))\n",
    "    for a in [ax[0], ax[i+1]]:\n",
    "        a.plot(\n",
    "            sphere_spectrum[:,0], \n",
    "            m1_flux * best_m[0,0], \n",
    "            color=fmts[i]['color'], ls=fmts[i]['ls'], \n",
    "            label='T$_{{\\\\mathrm{{eff}}}}$={}, $\\\\log{{g}}$={}'.format(teff, logg)\n",
    "        )\n",
    "\n",
    "    m1_resids = sphere_spectrum[:,1] - (m1_flux * best_m[0,0])\n",
    "    f_amp, length_scale = 0.5, np.exp(-1.2)\n",
    "\n",
    "    mu, stddev = gp_predict(sphere_spectrum[:,0], m1_resids, sphere_spectrum[:,2], f_amp, length_scale)\n",
    "    ax[i+1].errorbar(sphere_spectrum[:,0], sphere_spectrum[:,1], sphere_spectrum[:,2], ls='', fmt='o', color='skyblue')\n",
    "    ax[i+1].fill_between(sphere_spectrum[:,0],m1_flux * best_m[0,0] +  mu+stddev, m1_flux * best_m[0,0] + mu-stddev, color=fmts[i]['color'], alpha=0.2)\n",
    "                         \n",
    "ax[0].legend()\n",
    "plt.xlabel('$\\\\mu$m')\n",
    "ax[0].set_ylabel('flux [W m$^{-2}$ $\\mu$m$^{-1}$]')\n",
    "ax[1].set_ylabel('flux [W m$^{-2}$ $\\mu$m$^{-1}$]'); ax[2].set_ylabel('flux [W m$^{-2}$ $\\mu$m$^{-1}$]')\n",
    "plt.savefig('results/plots/sphere_bt_settl.png', dpi=250)"
   ]
  },
  {
   "cell_type": "code",
   "execution_count": 80,
   "id": "4f4209df-e716-41fd-bc6a-dcd74081376f",
   "metadata": {
    "tags": []
   },
   "outputs": [
    {
     "name": "stderr",
     "output_type": "stream",
     "text": [
      "/data/user/sblunt/miniconda3/envs/python3.8/lib/python3.8/site-packages/ipykernel/ipkernel.py:287: DeprecationWarning: `should_run_async` will not call `transform_cell` automatically in the future. Please pass the result to `transformed_cell` argument and any exception that happen during thetransform in `preprocessing_exc_tuple` in IPython 7.17 and above.\n",
      "  and should_run_async(code)\n"
     ]
    },
    {
     "ename": "TypeError",
     "evalue": "type of argument \"bounds\" must be one of (Dict[str, Union[Tuple[float, float], Tuple[Union[Tuple[float, float], NoneType], Union[Tuple[float, float], NoneType]], List[Tuple[float, float]]]], NoneType); got dict instead",
     "output_type": "error",
     "traceback": [
      "\u001b[0;31m---------------------------------------------------------------------------\u001b[0m",
      "\u001b[0;31mTypeError\u001b[0m                                 Traceback (most recent call last)",
      "\u001b[0;32m<ipython-input-80-cfb16a262868>\u001b[0m in \u001b[0;36m<module>\u001b[0;34m\u001b[0m\n\u001b[1;32m     40\u001b[0m \u001b[0;32mif\u001b[0m \u001b[0minclude_sinfoni\u001b[0m\u001b[0;34m:\u001b[0m\u001b[0;34m\u001b[0m\u001b[0;34m\u001b[0m\u001b[0m\n\u001b[1;32m     41\u001b[0m     \u001b[0mbounds\u001b[0m\u001b[0;34m[\u001b[0m\u001b[0;34m'SINFONI-K'\u001b[0m\u001b[0;34m]\u001b[0m \u001b[0;34m=\u001b[0m \u001b[0;34m(\u001b[0m\u001b[0;32mNone\u001b[0m\u001b[0;34m,\u001b[0m \u001b[0;32mNone\u001b[0m\u001b[0;34m,\u001b[0m \u001b[0;34m(\u001b[0m\u001b[0;36m0\u001b[0m\u001b[0;34m,\u001b[0m\u001b[0;36m50\u001b[0m\u001b[0;34m)\u001b[0m\u001b[0;34m)\u001b[0m\u001b[0;34m\u001b[0m\u001b[0;34m\u001b[0m\u001b[0m\n\u001b[0;32m---> 42\u001b[0;31m fit = species.FitModel(\n\u001b[0m\u001b[1;32m     43\u001b[0m         \u001b[0mobject_name\u001b[0m\u001b[0;34m=\u001b[0m\u001b[0;34m'HIP 65426 b'\u001b[0m\u001b[0;34m,\u001b[0m\u001b[0;34m\u001b[0m\u001b[0;34m\u001b[0m\u001b[0m\n\u001b[1;32m     44\u001b[0m         \u001b[0mmodel\u001b[0m\u001b[0;34m=\u001b[0m\u001b[0mmodel_choice\u001b[0m\u001b[0;34m,\u001b[0m\u001b[0;34m\u001b[0m\u001b[0;34m\u001b[0m\u001b[0m\n",
      "\u001b[0;32m/data/user/sblunt/miniconda3/envs/python3.8/lib/python3.8/site-packages/typeguard/__init__.py\u001b[0m in \u001b[0;36mwrapper\u001b[0;34m(*args, **kwargs)\u001b[0m\n\u001b[1;32m   1030\u001b[0m     \u001b[0;32mdef\u001b[0m \u001b[0mwrapper\u001b[0m\u001b[0;34m(\u001b[0m\u001b[0;34m*\u001b[0m\u001b[0margs\u001b[0m\u001b[0;34m,\u001b[0m \u001b[0;34m**\u001b[0m\u001b[0mkwargs\u001b[0m\u001b[0;34m)\u001b[0m\u001b[0;34m:\u001b[0m\u001b[0;34m\u001b[0m\u001b[0;34m\u001b[0m\u001b[0m\n\u001b[1;32m   1031\u001b[0m         \u001b[0mmemo\u001b[0m \u001b[0;34m=\u001b[0m \u001b[0m_CallMemo\u001b[0m\u001b[0;34m(\u001b[0m\u001b[0mpython_func\u001b[0m\u001b[0;34m,\u001b[0m \u001b[0m_localns\u001b[0m\u001b[0;34m,\u001b[0m \u001b[0margs\u001b[0m\u001b[0;34m=\u001b[0m\u001b[0margs\u001b[0m\u001b[0;34m,\u001b[0m \u001b[0mkwargs\u001b[0m\u001b[0;34m=\u001b[0m\u001b[0mkwargs\u001b[0m\u001b[0;34m)\u001b[0m\u001b[0;34m\u001b[0m\u001b[0;34m\u001b[0m\u001b[0m\n\u001b[0;32m-> 1032\u001b[0;31m         \u001b[0mcheck_argument_types\u001b[0m\u001b[0;34m(\u001b[0m\u001b[0mmemo\u001b[0m\u001b[0;34m)\u001b[0m\u001b[0;34m\u001b[0m\u001b[0;34m\u001b[0m\u001b[0m\n\u001b[0m\u001b[1;32m   1033\u001b[0m         \u001b[0mretval\u001b[0m \u001b[0;34m=\u001b[0m \u001b[0mfunc\u001b[0m\u001b[0;34m(\u001b[0m\u001b[0;34m*\u001b[0m\u001b[0margs\u001b[0m\u001b[0;34m,\u001b[0m \u001b[0;34m**\u001b[0m\u001b[0mkwargs\u001b[0m\u001b[0;34m)\u001b[0m\u001b[0;34m\u001b[0m\u001b[0;34m\u001b[0m\u001b[0m\n\u001b[1;32m   1034\u001b[0m         \u001b[0;32mtry\u001b[0m\u001b[0;34m:\u001b[0m\u001b[0;34m\u001b[0m\u001b[0;34m\u001b[0m\u001b[0m\n",
      "\u001b[0;32m/data/user/sblunt/miniconda3/envs/python3.8/lib/python3.8/site-packages/typeguard/__init__.py\u001b[0m in \u001b[0;36mcheck_argument_types\u001b[0;34m(memo)\u001b[0m\n\u001b[1;32m    873\u001b[0m                 \u001b[0mcheck_type\u001b[0m\u001b[0;34m(\u001b[0m\u001b[0mdescription\u001b[0m\u001b[0;34m,\u001b[0m \u001b[0mvalue\u001b[0m\u001b[0;34m,\u001b[0m \u001b[0mexpected_type\u001b[0m\u001b[0;34m,\u001b[0m \u001b[0mmemo\u001b[0m\u001b[0;34m)\u001b[0m\u001b[0;34m\u001b[0m\u001b[0;34m\u001b[0m\u001b[0m\n\u001b[1;32m    874\u001b[0m             \u001b[0;32mexcept\u001b[0m \u001b[0mTypeError\u001b[0m \u001b[0;32mas\u001b[0m \u001b[0mexc\u001b[0m\u001b[0;34m:\u001b[0m  \u001b[0;31m# suppress unnecessarily long tracebacks\u001b[0m\u001b[0;34m\u001b[0m\u001b[0;34m\u001b[0m\u001b[0m\n\u001b[0;32m--> 875\u001b[0;31m                 \u001b[0;32mraise\u001b[0m \u001b[0mTypeError\u001b[0m\u001b[0;34m(\u001b[0m\u001b[0;34m*\u001b[0m\u001b[0mexc\u001b[0m\u001b[0;34m.\u001b[0m\u001b[0margs\u001b[0m\u001b[0;34m)\u001b[0m \u001b[0;32mfrom\u001b[0m \u001b[0;32mNone\u001b[0m\u001b[0;34m\u001b[0m\u001b[0;34m\u001b[0m\u001b[0m\n\u001b[0m\u001b[1;32m    876\u001b[0m \u001b[0;34m\u001b[0m\u001b[0m\n\u001b[1;32m    877\u001b[0m     \u001b[0;32mreturn\u001b[0m \u001b[0;32mTrue\u001b[0m\u001b[0;34m\u001b[0m\u001b[0;34m\u001b[0m\u001b[0m\n",
      "\u001b[0;31mTypeError\u001b[0m: type of argument \"bounds\" must be one of (Dict[str, Union[Tuple[float, float], Tuple[Union[Tuple[float, float], NoneType], Union[Tuple[float, float], NoneType]], List[Tuple[float, float]]]], NoneType); got dict instead"
     ]
    }
   ],
   "source": [
    "inc_phot = [\n",
    "        'Paranal/SPHERE.IRDIS_D_H23_2',\n",
    "        'Paranal/SPHERE.IRDIS_D_H23_3',\n",
    "        'Paranal/SPHERE.IRDIS_D_K12_1',\n",
    "        'Paranal/SPHERE.IRDIS_D_K12_2',\n",
    "        'Paranal/NACO.Lp',\n",
    "        'Paranal/NACO.NB405',\n",
    "        'Paranal/NACO.Mp'\n",
    "]\n",
    "\n",
    "if include_jwst:\n",
    "    inc_phot += [\n",
    "        'JWST/NIRCAM.F250M',\n",
    "        'JWST/NIRCAM.F300M',\n",
    "        'JWST/NIRCAM.F356W',\n",
    "        'JWST/NIRCAM.F410M',\n",
    "        'JWST/NIRCAM.F444W',\n",
    "        'JWST/MIRI.F1140C',\n",
    "        'JWST/MIRI.F1550C'\n",
    "    ]\n",
    "\n",
    "if sphere_gp:\n",
    "    fit_corr=['SPHERE_IFU']\n",
    "else:\n",
    "    fit_corr=[]\n",
    "if teff_lowprior:\n",
    "    teff_bounds = (1200., 1500.)\n",
    "elif teff_hiprior:\n",
    "    teff_bounds = (1500., 2000.)\n",
    "else:\n",
    "    teff_bounds = (1200., 2000.)\n",
    "\n",
    "\n",
    "bounds = {\n",
    "    'teff': teff_bounds, \n",
    "    # 'SPHERE_IFU':(None, None, (0, 50))\n",
    "}\n",
    "if include_gravity:\n",
    "    bounds['GRAVITY'] = (None, None, (0,50))\n",
    "if include_sinfoni:\n",
    "    bounds['SINFONI-K'] = (None, None, (0,50))\n",
    "fit = species.FitModel(\n",
    "        object_name='HIP 65426 b',\n",
    "        model=model_choice,\n",
    "        bounds=bounds,\n",
    "        inc_phot=inc_phot,\n",
    "        inc_spec=True,\n",
    "        fit_corr=fit_corr,\n",
    "        weights=None\n",
    ")\n"
   ]
  },
  {
   "cell_type": "code",
   "execution_count": 12,
   "id": "b291e74b-c5df-4dbf-b80c-c661851b0f7f",
   "metadata": {},
   "outputs": [],
   "source": [
    "tag='hip65426_{}'.format(filepref.split('/')[1])"
   ]
  },
  {
   "cell_type": "code",
   "execution_count": 13,
   "id": "0ec757d6-1200-4279-bb44-91d416e1f78d",
   "metadata": {
    "tags": []
   },
   "outputs": [
    {
     "name": "stdout",
     "output_type": "stream",
     "text": [
      "Running nested sampling with MultiNest...\n",
      " *****************************************************\n",
      " MultiNest v3.10\n",
      " Copyright Farhan Feroz & Mike Hobson\n",
      " Release Jul 2015\n",
      "\n",
      " no. of live points = 1000\n",
      " dimensionality =   10\n",
      " *****************************************************\n"
     ]
    },
    {
     "name": "stderr",
     "output_type": "stream",
     "text": [
      "/Users/bluez3303/miniconda3/envs/multinest/lib/python3.10/site-packages/pymultinest/run.py:208: DeprecationWarning: inspect.getargspec() is deprecated since Python 3.0, use inspect.signature() or inspect.getfullargspec()\n",
      "  nargs = len(inspect.getargspec(LogLikelihood).args) - inspect.ismethod(LogLikelihood)\n"
     ]
    },
    {
     "name": "stdout",
     "output_type": "stream",
     "text": [
      "\n",
      " MultiNest Warning!\n",
      " Parameter            2  of mode            1  is converging towards the edge of the prior.\n",
      "\n",
      " MultiNest Warning!\n",
      " Parameter            2  of mode            1  is converging towards the edge of the prior.\n",
      "\n",
      " MultiNest Warning!\n",
      " Parameter            2  of mode            1  is converging towards the edge of the prior.\n",
      "\n",
      " MultiNest Warning!\n",
      " Parameter            2  of mode            1  is converging towards the edge of the prior.\n",
      "\n",
      " MultiNest Warning!\n",
      " Parameter            2  of mode            1  is converging towards the edge of the prior.\n",
      "\n",
      " MultiNest Warning!\n",
      " Parameter            2  of mode            1  is converging towards the edge of the prior.\n",
      "\n",
      " MultiNest Warning!\n",
      " Parameter            2  of mode            1  is converging towards the edge of the prior.\n",
      "\n",
      " MultiNest Warning!\n",
      " Parameter            2  of mode            1  is converging towards the edge of the prior.\n",
      "\n",
      " MultiNest Warning!\n",
      " Parameter            2  of mode            1  is converging towards the edge of the prior.\n",
      "\n",
      " MultiNest Warning!\n",
      " Parameter            2  of mode            1  is converging towards the edge of the prior.\n",
      "\n",
      " MultiNest Warning!\n",
      " Parameter            2  of mode            1  is converging towards the edge of the prior.\n",
      "\n",
      " MultiNest Warning!\n",
      " Parameter            2  of mode            1  is converging towards the edge of the prior.\n",
      "\n",
      " MultiNest Warning!\n",
      " Parameter            2  of mode            1  is converging towards the edge of the prior.\n",
      "\n",
      " MultiNest Warning!\n",
      " Parameter            2  of mode            1  is converging towards the edge of the prior.\n",
      "\n",
      " MultiNest Warning!\n",
      " Parameter            2  of mode            1  is converging towards the edge of the prior.\n",
      "\n",
      " MultiNest Warning!\n",
      " Parameter            2  of mode            1  is converging towards the edge of the prior.\n",
      "\n",
      " MultiNest Warning!\n",
      " Parameter            2  of mode            1  is converging towards the edge of the prior.\n",
      "\n",
      " MultiNest Warning!\n",
      " Parameter            2  of mode            1  is converging towards the edge of the prior.\n",
      "\n",
      " MultiNest Warning!\n",
      " Parameter            2  of mode            1  is converging towards the edge of the prior.\n",
      "\n",
      " MultiNest Warning!\n",
      " Parameter            2  of mode            1  is converging towards the edge of the prior.\n",
      "\n",
      " MultiNest Warning!\n",
      " Parameter            2  of mode            1  is converging towards the edge of the prior.\n",
      "\n",
      " MultiNest Warning!\n",
      " Parameter            2  of mode            1  is converging towards the edge of the prior.\n",
      "\n",
      " MultiNest Warning!\n",
      " Parameter            2  of mode            1  is converging towards the edge of the prior.\n",
      "\n",
      " MultiNest Warning!\n",
      " Parameter            2  of mode            1  is converging towards the edge of the prior.\n",
      "\n",
      " MultiNest Warning!\n",
      " Parameter            2  of mode            1  is converging towards the edge of the prior.\n",
      "\n",
      " MultiNest Warning!\n",
      " Parameter            2  of mode            1  is converging towards the edge of the prior.\n",
      "\n",
      " MultiNest Warning!\n",
      " Parameter            2  of mode            1  is converging towards the edge of the prior.\n",
      "\n",
      " MultiNest Warning!\n",
      " Parameter            2  of mode            1  is converging towards the edge of the prior.\n",
      "\n",
      " MultiNest Warning!\n",
      " Parameter            2  of mode            1  is converging towards the edge of the prior.\n",
      "\n",
      " MultiNest Warning!\n",
      " Parameter            2  of mode            1  is converging towards the edge of the prior.\n",
      "\n",
      " MultiNest Warning!\n",
      " Parameter            2  of mode            1  is converging towards the edge of the prior.\n",
      "\n",
      " MultiNest Warning!\n",
      " Parameter            2  of mode            1  is converging towards the edge of the prior.\n",
      "\n",
      " MultiNest Warning!\n",
      " Parameter            2  of mode            1  is converging towards the edge of the prior.\n",
      "\n",
      " MultiNest Warning!\n",
      " Parameter            2  of mode            1  is converging towards the edge of the prior.\n",
      "\n",
      " MultiNest Warning!\n",
      " Parameter            2  of mode            1  is converging towards the edge of the prior.\n",
      "\n",
      " MultiNest Warning!\n",
      " Parameter            2  of mode            1  is converging towards the edge of the prior.\n",
      "\n",
      " MultiNest Warning!\n",
      " Parameter            2  of mode            1  is converging towards the edge of the prior.\n",
      "\n",
      " MultiNest Warning!\n",
      " Parameter            2  of mode            1  is converging towards the edge of the prior.\n",
      "\n",
      " MultiNest Warning!\n",
      " Parameter            2  of mode            1  is converging towards the edge of the prior.\n",
      "\n",
      " MultiNest Warning!\n",
      " Parameter            2  of mode            1  is converging towards the edge of the prior.\n",
      "\n",
      " MultiNest Warning!\n",
      " Parameter            2  of mode            1  is converging towards the edge of the prior.\n",
      "\n",
      " MultiNest Warning!\n",
      " Parameter            2  of mode            1  is converging towards the edge of the prior.\n",
      "\n",
      " MultiNest Warning!\n",
      " Parameter            2  of mode            1  is converging towards the edge of the prior.\n",
      "\n",
      " MultiNest Warning!\n",
      " Parameter            2  of mode            1  is converging towards the edge of the prior.\n",
      "\n",
      " MultiNest Warning!\n",
      " Parameter            2  of mode            1  is converging towards the edge of the prior.\n",
      "\n",
      " MultiNest Warning!\n",
      " Parameter            2  of mode            1  is converging towards the edge of the prior.\n",
      "\n",
      " MultiNest Warning!\n",
      " Parameter            2  of mode            1  is converging towards the edge of the prior.\n",
      "\n",
      " MultiNest Warning!\n",
      " Parameter            2  of mode            1  is converging towards the edge of the prior.\n",
      "\n",
      " MultiNest Warning!\n",
      " Parameter            2  of mode            1  is converging towards the edge of the prior.\n",
      "\n",
      " MultiNest Warning!\n",
      " Parameter            2  of mode            1  is converging towards the edge of the prior.\n",
      "\n",
      " MultiNest Warning!\n",
      " Parameter            2  of mode            1  is converging towards the edge of the prior.\n",
      "\n",
      " MultiNest Warning!\n",
      " Parameter            2  of mode            1  is converging towards the edge of the prior.\n",
      "\n",
      " MultiNest Warning!\n",
      " Parameter            2  of mode            1  is converging towards the edge of the prior.\n",
      "\n",
      " MultiNest Warning!\n",
      " Parameter            2  of mode            1  is converging towards the edge of the prior.\n",
      "\n",
      " MultiNest Warning!\n",
      " Parameter            2  of mode            1  is converging towards the edge of the prior.\n",
      "\n",
      " MultiNest Warning!\n",
      " Parameter            2  of mode            1  is converging towards the edge of the prior.\n",
      "\n",
      " MultiNest Warning!\n",
      " Parameter            2  of mode            1  is converging towards the edge of the prior.\n",
      "\n",
      " MultiNest Warning!\n",
      " Parameter            2  of mode            1  is converging towards the edge of the prior.\n",
      "\n",
      " MultiNest Warning!\n",
      " Parameter            2  of mode            1  is converging towards the edge of the prior.\n",
      "\n",
      " MultiNest Warning!\n",
      " Parameter            2  of mode            1  is converging towards the edge of the prior.\n",
      "\n",
      " MultiNest Warning!\n",
      " Parameter            2  of mode            1  is converging towards the edge of the prior.\n",
      "\n",
      " MultiNest Warning!\n",
      " Parameter            2  of mode            1  is converging towards the edge of the prior.\n",
      "\n",
      " MultiNest Warning!\n",
      " Parameter            2  of mode            1  is converging towards the edge of the prior.\n",
      "\n",
      " MultiNest Warning!\n",
      " Parameter            2  of mode            1  is converging towards the edge of the prior.\n",
      "\n",
      " MultiNest Warning!\n",
      " Parameter            2  of mode            1  is converging towards the edge of the prior.\n",
      "\n",
      " MultiNest Warning!\n",
      " Parameter            2  of mode            1  is converging towards the edge of the prior.\n",
      "\n",
      " MultiNest Warning!\n",
      " Parameter            2  of mode            1  is converging towards the edge of the prior.\n",
      "\n",
      " MultiNest Warning!\n",
      " Parameter            2  of mode            1  is converging towards the edge of the prior.\n",
      "\n",
      " MultiNest Warning!\n",
      " Parameter            2  of mode            1  is converging towards the edge of the prior.\n",
      "\n",
      " MultiNest Warning!\n",
      " Parameter            2  of mode            1  is converging towards the edge of the prior.\n",
      "\n",
      " MultiNest Warning!\n",
      " Parameter            2  of mode            1  is converging towards the edge of the prior.\n",
      "\n",
      " MultiNest Warning!\n",
      " Parameter            2  of mode            1  is converging towards the edge of the prior.\n",
      "\n",
      " MultiNest Warning!\n",
      " Parameter            2  of mode            1  is converging towards the edge of the prior.\n",
      "  analysing data from results/gravity_sinfoni_exo-rem/multinest/.txt ln(ev)=   82356.601416751568      +/-  0.13366297970300473     \n",
      " Total Likelihood Evaluations:       104678\n",
      " Sampling finished. Exiting MultiNest\n",
      "\n"
     ]
    },
    {
     "name": "stderr",
     "output_type": "stream",
     "text": [
      "The chain is shorter than 50 times the integrated autocorrelation time for 1 parameter(s). Use this estimate with caution and run a longer chain!\n",
      "N/50 = 142;\n",
      "tau: [179.15428084]\n",
      "The chain is shorter than 50 times the integrated autocorrelation time for 1 parameter(s). Use this estimate with caution and run a longer chain!\n",
      "N/50 = 142;\n",
      "tau: [509.24134893]\n"
     ]
    },
    {
     "name": "stdout",
     "output_type": "stream",
     "text": [
      "Nested sampling global log-evidence: 82356.60 +/- 0.13\n",
      "Nested importance sampling global log-evidence: 82354.91 +/- 0.11\n",
      "Sample with the highest likelihood:\n",
      "   - Log-likelihood = 82378.06\n",
      "   - teff = 1348.29\n",
      "   - logg = 3.51\n",
      "   - feh = -0.05\n",
      "   - c_o_ratio = 0.60\n",
      "   - radius = 1.45\n",
      "   - parallax = 9.30\n",
      "   - corr_len_SPHERE_IFU = -1.46\n",
      "   - corr_amp_SPHERE_IFU = 0.59\n",
      "   - radvel_GRAVITY = 0.02\n",
      "   - radvel_SINFONI-K = 17.32\n",
      "Integrated autocorrelation time:\n",
      "   - teff: 3.12\n",
      "   - logg: 179.15\n",
      "   - feh: 4.35\n",
      "   - c_o_ratio: 1.51\n",
      "   - radius: 509.24\n",
      "   - parallax: 5.19\n",
      "   - corr_len_SPHERE_IFU: 1.79\n",
      "   - corr_amp_SPHERE_IFU: 1.77\n",
      "   - radvel_GRAVITY: 7.00\n",
      "   - radvel_SINFONI-K: 1.70\n"
     ]
    }
   ],
   "source": [
    "fit.run_multinest(tag=tag,\n",
    "                  n_live_points=1000,\n",
    "                  output='{}multinest/'.format(filepref),\n",
    "                #   prior={'mass': (7.1, 1.1)} # prior from evol model, can include or disregard\n",
    "                 )"
   ]
  },
  {
   "cell_type": "code",
   "execution_count": 19,
   "id": "b34bb8e4-f321-4334-b5bc-67ff409422df",
   "metadata": {},
   "outputs": [
    {
     "name": "stdout",
     "output_type": "stream",
     "text": [
      "Median sample:\n",
      "   - teff = 1.35e+03\n",
      "   - logg = 3.52e+00\n",
      "   - feh = 1.57e-03\n",
      "   - c_o_ratio = 5.98e-01\n",
      "   - radius = 1.46e+00\n",
      "   - parallax = 9.30e+00\n",
      "   - corr_len_SPHERE_IFU = -1.22e+00\n",
      "   - corr_amp_SPHERE_IFU = 5.30e-01\n",
      "   - radvel_GRAVITY = 2.25e+01\n",
      "   - radvel_SINFONI-K = 1.78e+01\n",
      "Plotting the posterior: results/gravity_sinfoni_exo-rem/post.png... [DONE]\n"
     ]
    }
   ],
   "source": [
    "post = species.plot_posterior(tag=tag,\n",
    "                       offset=(-0.3 , -0.3),\n",
    "                       title_fmt=['.0f', '.2f', '.2f', '.2f', '.2f', '.2f', '.1f', '.1f','.0f','.0f','.2f','.1f'],\n",
    "                       inc_luminosity=True,\n",
    "                       inc_mass=True,\n",
    "                       output='{}post.png'.format(filepref))"
   ]
  },
  {
   "cell_type": "code",
   "execution_count": 21,
   "id": "70a244a6-7f55-40ec-a213-285bd299556a",
   "metadata": {},
   "outputs": [
    {
     "data": {
      "application/vnd.jupyter.widget-view+json": {
       "model_id": "f85cac8fd79e405095242ddaa0c5ff38",
       "version_major": 2,
       "version_minor": 0
      },
      "text/plain": [
       "Getting MCMC spectra:   0%|          | 0/30 [00:00<?, ?it/s]"
      ]
     },
     "metadata": {},
     "output_type": "display_data"
    },
    {
     "name": "stderr",
     "output_type": "stream",
     "text": [
      "/Users/bluez3303/Documents/GitHub/species/species/read/read_model.py:721: UserWarning: The 'radvel_GRAVITY' parameter is not required by 'exo-rem' so the parameter will be ignored. The mandatory parameters are ['teff', 'logg', 'feh', 'c_o_ratio'].\n",
      "  warnings.warn(\n",
      "/Users/bluez3303/Documents/GitHub/species/species/read/read_model.py:721: UserWarning: The 'radvel_SINFONI-K' parameter is not required by 'exo-rem' so the parameter will be ignored. The mandatory parameters are ['teff', 'logg', 'feh', 'c_o_ratio'].\n",
      "  warnings.warn(\n",
      "/Users/bluez3303/Documents/GitHub/species/species/read/read_model.py:721: UserWarning: The 'corr_len_SPHERE_IFU' parameter is not required by 'exo-rem' so the parameter will be ignored. The mandatory parameters are ['teff', 'logg', 'feh', 'c_o_ratio'].\n",
      "  warnings.warn(\n",
      "/Users/bluez3303/Documents/GitHub/species/species/read/read_model.py:721: UserWarning: The 'corr_amp_SPHERE_IFU' parameter is not required by 'exo-rem' so the parameter will be ignored. The mandatory parameters are ['teff', 'logg', 'feh', 'c_o_ratio'].\n",
      "  warnings.warn(\n"
     ]
    },
    {
     "name": "stdout",
     "output_type": "stream",
     "text": [
      "Getting object: HIP 65426 b... [DONE]\n",
      "Calculating synthetic photometry..."
     ]
    },
    {
     "name": "stderr",
     "output_type": "stream",
     "text": [
      "/Users/bluez3303/Documents/GitHub/species/species/util/read_util.py:176: DeprecationWarning: The update_spectra function is deprecated and will be removed in a future release. Please use the update_objectbox function instead.\n",
      "  warnings.warn(\n"
     ]
    },
    {
     "name": "stdout",
     "output_type": "stream",
     "text": [
      " [DONE]\n",
      "Calculating residuals... [DONE]\n",
      "Residuals (sigma):\n",
      "   - Paranal/NACO.Lp: 3.34\n",
      "   - Paranal/NACO.Mp: 2.40\n",
      "   - Paranal/NACO.NB405: 1.68\n",
      "   - Paranal/SPHERE.IRDIS_D_H23_2: 1.75\n",
      "   - Paranal/SPHERE.IRDIS_D_H23_3: 0.67\n",
      "   - Paranal/SPHERE.IRDIS_D_K12_1: 0.78\n",
      "   - Paranal/SPHERE.IRDIS_D_K12_2: -0.15\n",
      "   - GRAVITY: min: -1.69, max: 2.48\n",
      "   - SINFONI-K: min: -1.27, max: 2.45\n",
      "   - SPHERE_IFU: min: -2.33, max: 2.35\n",
      "Reduced chi2 = 0.18\n",
      "Number of degrees of freedom = 2205\n",
      "Calculating synthetic photometry... [DONE]\n",
      "Plotting spectrum: results/gravity_sinfoni_exo-rem/HIP65426b-SED.pdf... [DONE]\n"
     ]
    }
   ],
   "source": [
    "samples = database.get_mcmc_spectra(tag=tag,\n",
    "                                    random=30,\n",
    "                                    wavel_range=None,\n",
    "                                    spec_res=500.)\n",
    "\n",
    "best = database.get_median_sample(tag=tag)\n",
    "\n",
    "read_model = species.ReadModel(model=model_choice,\n",
    "                               wavel_range=None)\n",
    "\n",
    "modelbox = read_model.get_model(model_param=best,\n",
    "                                spec_res=500.,\n",
    "                                smooth=True)\n",
    "\n",
    "objectbox = database.get_object(object_name='HIP 65426 b',\n",
    "                                inc_phot=True,\n",
    "                                inc_spec=True)\n",
    "\n",
    "objectbox = species.update_spectra(objectbox=objectbox,\n",
    "                                   model_param=best)\n",
    "\n",
    "residuals = species.get_residuals(datatype='model',\n",
    "                                  spectrum=model_choice,\n",
    "                                  parameters=best,\n",
    "                                  objectbox=objectbox,\n",
    "                                  inc_phot=True,\n",
    "                                  inc_spec=True)\n",
    "\n",
    "synphot = species.multi_photometry(datatype='model',\n",
    "                                   spectrum=model_choice,\n",
    "                                   filters=objectbox.filters,\n",
    "                                   parameters=best)\n",
    "\n",
    "species.plot_spectrum(boxes=[samples, modelbox, objectbox, synphot],\n",
    "                      filters=objectbox.filters,\n",
    "                      residuals=residuals,\n",
    "                      plot_kwargs=[{'ls': '-', 'lw': 0.2, 'color': 'gray'},\n",
    "                                   {'ls': '-', 'lw': 1., 'color': 'black'},\n",
    "                                   {'GRAVITY': {'marker': '.', 'ms': 5., 'mew': 0., 'color': 'rebeccapurple', 'ls': 'none', 'alpha': 0.3, 'label': 'GRAVITY'},\n",
    "                                    'SINFONI-K': {'marker': '.', 'ms': 5., 'mew': 0., 'color': 'seagreen', 'ls': 'none', 'alpha': 0.05, 'label': 'SINFONI-K'},\n",
    "                                    'SPHERE_IFU': {'marker': 's', 'ms': 2., 'mew': 0., 'color': 'cornflowerblue', 'ls': '', 'alpha': 1, 'label': 'SPHERE IFU'},\n",
    "                                    'Paranal/NACO.Lp': {'marker': 's', 'ms': 5., 'color': 'tomato', 'ls': 'none', 'label':'NACO'},\n",
    "                                    'Paranal/NACO.NB405': {'marker': 's', 'markersize': 5., 'color': 'tomato', 'ls': 'none'},\n",
    "                                    'Paranal/NACO.Mp': {'marker': 's', 'markersize': 5., 'color': 'tomato', 'ls': 'none'},\n",
    "                                    'JWST/NIRCAM.F250M': {'marker': 's', 'markersize': 5., 'color': 'xkcd:mustard', 'ls': 'none', 'label':'JWST/NIRCAM'},\n",
    "                                    'JWST/NIRCAM.F300M': {'marker': 's', 'markersize': 5., 'color': 'xkcd:mustard', 'ls': 'none'},\n",
    "                                    'JWST/NIRCAM.F356W': {'marker': 's', 'markersize': 5., 'color': 'xkcd:mustard', 'ls': 'none'},\n",
    "                                    'JWST/NIRCAM.F410M': {'marker': 's', 'markersize': 5., 'color': 'xkcd:mustard', 'ls': 'none'},\n",
    "                                    'JWST/NIRCAM.F444W': {'marker': 's', 'markersize': 5., 'color': 'xkcd:mustard', 'ls': 'none'},\n",
    "                                    'JWST/MIRI.F1140C': {'marker': 's', 'markersize': 5., 'color': 'purple', 'ls': 'none', 'label':'JWST/MIRI'},\n",
    "                                    'JWST/MIRI.F1550C': {'marker': 's', 'markersize': 5., 'color': 'purple', 'ls': 'none'},\n",
    "                                    'Paranal/SPHERE.IRDIS_D_H23_2': {'marker': '^', 'ms': 7., 'mew': 0., 'color': 'hotpink', 'ls': '', 'alpha': 1, 'label': 'SPHERE'},\n",
    "                                    'Paranal/SPHERE.IRDIS_D_H23_3': {'marker': '^', 'ms': 7., 'mew': 0., 'color': 'hotpink', 'ls': '', 'alpha': 1},\n",
    "                                    'Paranal/SPHERE.IRDIS_D_K12_1': {'marker': '^', 'ms': 7., 'mew': 0., 'color': 'hotpink', 'ls': '', 'alpha': 1},\n",
    "                                    'Paranal/SPHERE.IRDIS_D_K12_2': {'marker': '^', 'ms': 7., 'mew': 0., 'color': 'hotpink', 'ls': '', 'alpha': 1},\n",
    "                                   },\n",
    "                                    None],\n",
    "                      xlim=(0.8, 10.),\n",
    "                      # ylim=(1.15e-20, 2e-16),\n",
    "                      ylim_res=(-6., 6.),\n",
    "                      scale=('log', 'linear'),\n",
    "                      offset=(-0.4, -0.05),\n",
    "                      legend=[{'loc': 'lower left', 'frameon': False, 'fontsize': 11.},\n",
    "                              {'loc': 'upper right', 'frameon': False, 'fontsize': 12.}],\n",
    "                      figsize=(12., 6.),\n",
    "                      quantity='flux density',\n",
    "                      output=filepref+'HIP65426b-SED.pdf'\n",
    "                     )"
   ]
  },
  {
   "cell_type": "code",
   "execution_count": null,
   "id": "dc66cb21",
   "metadata": {},
   "outputs": [],
   "source": []
  }
 ],
 "metadata": {
  "kernelspec": {
   "display_name": "multinest",
   "language": "python",
   "name": "python3"
  },
  "language_info": {
   "codemirror_mode": {
    "name": "ipython",
    "version": 3
   },
   "file_extension": ".py",
   "mimetype": "text/x-python",
   "name": "python",
   "nbconvert_exporter": "python",
   "pygments_lexer": "ipython3",
   "version": "3.8.5"
  },
  "vscode": {
   "interpreter": {
    "hash": "6efb16e1116801fe66cb5fbb2e877592a4abf26c259fb5d7c6845495c7ce7673"
   }
  }
 },
 "nbformat": 4,
 "nbformat_minor": 5
}
