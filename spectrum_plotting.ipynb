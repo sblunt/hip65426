{
 "cells": [
  {
   "cell_type": "markdown",
   "id": "cf9f84da-88d3-4e5c-86e5-2b701cb87181",
   "metadata": {},
   "source": [
    "## Notes\n",
    "\n",
    "This notebook only contains fitting and plotting code for the observed spectrum of HIP 65426 b as of January 2023, for the ExoGRAVITY collaboration. It does not include the code used to extract or flux calibrate this spectrum. The spectrum was extracted from one night of GRAVITY data for which there is a reliable on-axis observation, namely the Jan. 7th, 2021 observation of the system. The spectrum was extracted using the currently (as of Jan. 2023) ExoGRAVITY pipeline (see Appendix B in Nowak et al. 2020 for an outline of the data reduction steps), and flux calibrated using a BT-NextGen spectrum fit to archive photometry of the host, and scaled to match the SPHERE K1 photometry (about a factor of 0.5) of the companion. For more information on this, text for your paper, or for additional plots, contact W. Balmer :~)\n",
    "\n",
    "This notebook assumes you have installed $\\texttt{species}$, a toolkit for analyzing direct imaging observations. You can therefore change the model you fit to the observations (by default, the BT-Settl-Cifist model worked well when I was working on this target for the JWST ERS paper, but there are others listed on the species webpage), the number of live points, etc. and can save plots of the posterior of fit parameters, and the spectrum. "
   ]
  },
  {
   "cell_type": "code",
   "execution_count": 1,
   "id": "b0dec025-33ec-4fb4-b5fb-d576d81a25e0",
   "metadata": {},
   "outputs": [],
   "source": [
    "import numpy as np\n",
    "import os\n",
    "import pandas as pd\n",
    "import matplotlib.pyplot as plt\n",
    "import spectres\n",
    "\n",
    "# fits to run:\n",
    "# (exclude JWST in all fits for now, but include in final version)\n",
    "# (1) GRAVITY only - bt (done!)\n",
    "# (2) SINFONI + GRAVITY - bt (done!)\n",
    "# (3) SINFONI only - bt (done!)\n",
    "# (4) GRAVITY only - exoREM\n",
    "# (5) SINFONI + GRAVITY - exoREM\n",
    "# (6) SINFONI only - exoREM\n"
   ]
  },
  {
   "cell_type": "code",
   "execution_count": 2,
   "id": "15476709-f65a-45a7-b768-4bc019749cd8",
   "metadata": {},
   "outputs": [
    {
     "name": "stdout",
     "output_type": "stream",
     "text": [
      "Initiating species v0.5.5... [DONE]\n",
      "Database: /Users/bluez3303/Documents/GitHub/hip65426/species_database.hdf5\n",
      "Data folder: /Users/bluez3303/Documents/GitHub/hip65426/data\n",
      "Working folder: /Users/bluez3303/Documents/GitHub/hip65426\n",
      "Grid interpolation method: linear\n"
     ]
    }
   ],
   "source": [
    "# initialize species\n",
    "# this notebook will work, even if you have a clean installation of the package\n",
    "# see https://species.readthedocs.io/ for more\n",
    "import species\n",
    "species.SpeciesInit()\n",
    "database = species.Database()"
   ]
  },
  {
   "cell_type": "code",
   "execution_count": 3,
   "id": "8136200b-d69b-4c8b-bbb1-d3f33d593825",
   "metadata": {},
   "outputs": [],
   "source": [
    "include_gravity = True\n",
    "include_sinfoni = False\n",
    "include_jwst = False\n",
    "sphere_gp = False\n",
    "teff_lowprior = True\n",
    "model_choice = 'bt-settl-cifist'\n",
    "\n",
    "filepref = 'results/'\n",
    "if include_gravity:\n",
    "    filepref += 'gravity_'\n",
    "if include_sinfoni:\n",
    "    filepref += 'sinfoni_'\n",
    "if include_jwst:\n",
    "    filepref += 'jwst_'\n",
    "if not sphere_gp:\n",
    "    filepref += 'nosphereGP_'\n",
    "if teff_lowprior:\n",
    "    filepref += 'tefflo_'\n",
    "\n",
    "filepref += '{}/'.format(model_choice)\n",
    "if not os.path.isdir(filepref):\n",
    "    os.mkdir(filepref)\n",
    "if not os.path.isdir('{}multinest/'.format(filepref)):\n",
    "    os.mkdir('{}multinest/'.format(filepref))"
   ]
  },
  {
   "cell_type": "code",
   "execution_count": 4,
   "id": "7bf2bfb4-079a-4c16-9db9-8db596ae8d3d",
   "metadata": {},
   "outputs": [],
   "source": [
    "# download and shape up the HIP 65426 b SPHERE spectrum\n",
    "import urllib.request\n",
    "\n",
    "urllib.request.urlretrieve(\n",
    "    'https://home.strw.leidenuniv.nl/~stolker/species/spectra/hip65426_sphere_yjh.dat', \n",
    "    'data/hip65426_sphere_yjh.dat'\n",
    ")\n",
    "\n",
    "sphere_yjh = pd.read_csv('data/hip65426_sphere_yjh.dat', delim_whitespace=True, comment='#', names=['l','f','fe'])\n",
    "sphere_yjh = sphere_yjh[2:]\n",
    "sphere_yjh.to_csv('data/hip65426_sphere_yjh.dat', sep=' ', header=False, index=False)\n",
    "\n",
    "# shape up the SINFONI spectrum\n",
    "sinfoni = pd.read_csv('data/HIP_65426_B_final_noLSS_spec.txt', comment='#', delim_whitespace=True, usecols=[0,1,2,6], names=['l', 'f', 'fe', 'inst'])\n",
    "sinfoni = sinfoni[sinfoni.inst == 'SINFONI-K']\n",
    "sinfoni[['l','f','fe']].to_csv('data/sinfoni.dat', sep=' ', header=False, index=False)"
   ]
  },
  {
   "cell_type": "code",
   "execution_count": 5,
   "id": "1f3690f9-1f70-4c51-aaaf-898b9eab9bd8",
   "metadata": {},
   "outputs": [],
   "source": [
    "plx = (9.3031,0.0346) # Gaia DR3"
   ]
  },
  {
   "cell_type": "code",
   "execution_count": 6,
   "id": "2191409d-ffcf-4967-88f5-0232acfe3543",
   "metadata": {
    "jupyter": {
     "outputs_hidden": true
    },
    "tags": []
   },
   "outputs": [
    {
     "name": "stdout",
     "output_type": "stream",
     "text": [
      "Adding object: HIP 65426 b\n",
      "   - Spectrum:\n",
      "      - Database tag: SPHERE_IFU\n",
      "      - Filename: data/hip65426_sphere_yjh.dat\n",
      "      - Data shape: (37, 3)\n",
      "      - Wavelength range (um): 0.99 - 1.64\n",
      "      - Mean flux (W m-2 um-1): 5.54e-17\n",
      "      - Mean error (W m-2 um-1): 5.45e-18\n",
      "   - GRAVITY spectrum:\n",
      "      - Object: HIP 65426 B\n",
      "      - Database tag: GRAVITY\n",
      "      - Filename: data/HIP65426B_GRAVITYK_spectrum_fluxcal_scaled.fits\n",
      "      - Data shape: (192, 3)\n",
      "      - Wavelength range (um): 2.05 - 2.48\n",
      "      - Mean flux (W m-2 um-1): 6.48e-17\n",
      "      - Mean error (W m-2 um-1): 1.60e-17\n",
      "   - GRAVITY covariance matrix:\n",
      "      - Object: HIP 65426 B\n",
      "      - Database tag: GRAVITY\n",
      "      - Filename: data/HIP65426B_GRAVITYK_spectrum_fluxcal_scaled.fits\n",
      "      - Data shape: (192, 192)\n",
      "   - Spectral resolution:\n",
      "      - SPHERE_IFU: 40.0\n",
      "      - GRAVITY: 500.0\n"
     ]
    }
   ],
   "source": [
    "spectrum = {\n",
    "  'SPHERE_IFU': ('data/hip65426_sphere_yjh.dat', None, 40.),\n",
    "}\n",
    "\n",
    "if include_sinfoni:\n",
    "  spectrum['SINFONI-K'] =  ('data/sinfoni.dat', None, 5577.)\n",
    "\n",
    "if include_gravity:\n",
    "  spectrum['GRAVITY'] = (\n",
    "    'data/HIP65426B_GRAVITYK_spectrum_fluxcal_scaled.fits', \n",
    "    'data/HIP65426B_GRAVITYK_spectrum_fluxcal_scaled.fits', \n",
    "    500.\n",
    "  )\n",
    "\n",
    "database.add_object(\n",
    "  'HIP 65426 b',\n",
    "  parallax=None, app_mag=None, flux_density=None,\n",
    "  spectrum=spectrum, deredden=None\n",
    ")"
   ]
  },
  {
   "cell_type": "code",
   "execution_count": 7,
   "id": "807d765b-5b14-401b-8eb3-5cc128294a79",
   "metadata": {
    "jupyter": {
     "outputs_hidden": true
    },
    "tags": []
   },
   "outputs": [
    {
     "name": "stdout",
     "output_type": "stream",
     "text": [
      "Adding object: HIP 65426 b\n",
      "   - Parallax (mas) = 9.30 +/- 0.03\n",
      "   - Paranal/SPHERE.IRDIS_D_H23_2:\n",
      "      - Apparent magnitude = 17.94 +/- 0.05\n",
      "      - Flux (W m-2 um-1) = 8.73e-17 +/- 4.02e-18\n",
      "   - Paranal/SPHERE.IRDIS_D_H23_3:\n",
      "      - Apparent magnitude = 17.58 +/- 0.06\n",
      "      - Flux (W m-2 um-1) = 1.03e-16 +/- 5.70e-18\n",
      "   - Paranal/SPHERE.IRDIS_D_K12_1:\n",
      "      - Apparent magnitude = 17.01 +/- 0.09\n",
      "      - Flux (W m-2 um-1) = 7.63e-17 +/- 6.33e-18\n",
      "   - Paranal/SPHERE.IRDIS_D_K12_2:\n",
      "      - Apparent magnitude = 16.79 +/- 0.09\n",
      "      - Flux (W m-2 um-1) = 7.21e-17 +/- 5.98e-18\n",
      "   - Paranal/NACO.Lp:\n",
      "      - Apparent magnitude = 15.33 +/- 0.12\n",
      "      - Flux (W m-2 um-1) = 3.88e-17 +/- 4.30e-18\n",
      "   - Paranal/NACO.NB405:\n",
      "      - Apparent magnitude = 15.23 +/- 0.22\n",
      "      - Flux (W m-2 um-1) = 3.21e-17 +/- 6.55e-18\n",
      "   - Paranal/NACO.Mp:\n",
      "      - Apparent magnitude = 14.65 +/- 0.29\n",
      "      - Flux (W m-2 um-1) = 2.99e-17 +/- 8.07e-18\n",
      "Getting object: HIP 65426 b... [DONE]\n"
     ]
    }
   ],
   "source": [
    "# add archival companion photometry\n",
    "database.add_companion(name='HIP 65426 b')\n",
    "objectbox = database.get_object(object_name='HIP 65426 b')"
   ]
  },
  {
   "cell_type": "code",
   "execution_count": 8,
   "id": "e592862b",
   "metadata": {},
   "outputs": [
    {
     "name": "stderr",
     "output_type": "stream",
     "text": [
      "<>:28: DeprecationWarning: invalid escape sequence '\\l'\n",
      "<>:29: DeprecationWarning: invalid escape sequence '\\m'\n",
      "<>:30: DeprecationWarning: invalid escape sequence '\\m'\n",
      "<>:28: DeprecationWarning: invalid escape sequence '\\l'\n",
      "<>:29: DeprecationWarning: invalid escape sequence '\\m'\n",
      "<>:30: DeprecationWarning: invalid escape sequence '\\m'\n",
      "/var/folders/y8/lw5f1dcj04g4txq4y2znyc200000gn/T/ipykernel_83724/1231869645.py:28: DeprecationWarning: invalid escape sequence '\\l'\n",
      "  ax[1].set_xlabel('$\\lambda$ [$\\mu$m]')\n",
      "/var/folders/y8/lw5f1dcj04g4txq4y2znyc200000gn/T/ipykernel_83724/1231869645.py:29: DeprecationWarning: invalid escape sequence '\\m'\n",
      "  ax[0].set_ylabel('flux [W m$^{-2}$ $\\mu$m$^{-1}$]')\n",
      "/var/folders/y8/lw5f1dcj04g4txq4y2znyc200000gn/T/ipykernel_83724/1231869645.py:30: DeprecationWarning: invalid escape sequence '\\m'\n",
      "  ax[1].set_ylabel('flux [W m$^{-2}$ $\\mu$m$^{-1}$]')\n"
     ]
    }
   ],
   "source": [
    "if include_gravity and include_sinfoni:\n",
    "\n",
    "    # make a plot comparing the SINFONI and GRAVITY spectra\n",
    "    gravity_spectrum = objectbox.spectrum['GRAVITY'][0]\n",
    "    sinfoni_spectrum = objectbox.spectrum['SINFONI-K'][0]\n",
    "\n",
    "    fig, ax = plt.subplots(2, 1, figsize=(8,4), sharex=True)\n",
    "    plt.subplots_adjust(hspace=0)\n",
    "    offset = 0\n",
    "\n",
    "    ax[0].fill_between(gravity_spectrum[:,0], offset + gravity_spectrum[:,1] + gravity_spectrum[:,2], offset + gravity_spectrum[:,1] - gravity_spectrum[:,2], color='k', alpha=0.5, label='GRAVITY')\n",
    "\n",
    "    # downsample the SINFONI data to directly compare with GRAVITY\n",
    "    sinfoni_equivalent_flux = np.zeros(len(gravity_spectrum))\n",
    "\n",
    "    gravity_wavelength = gravity_spectrum[:,0]\n",
    "    gravity_dlambda = gravity_wavelength[1] - gravity_wavelength[0]\n",
    "    sinfoni_dlambda = sinfoni_spectrum[1,0] - sinfoni_spectrum[0,0]\n",
    "\n",
    "    sinfoni_equivalent_flux, sinfoni_equivalent_flux_errs = spectres.spectres(gravity_wavelength, sinfoni_spectrum[:,0], sinfoni_spectrum[:,1], sinfoni_spectrum[:,2], fill=0)\n",
    "\n",
    "    ax[0].fill_between(\n",
    "        gravity_wavelength[sinfoni_equivalent_flux>0], \n",
    "        offset + sinfoni_equivalent_flux[sinfoni_equivalent_flux>0] + sinfoni_equivalent_flux_errs[sinfoni_equivalent_flux>0],\n",
    "        offset + sinfoni_equivalent_flux[sinfoni_equivalent_flux>0] - sinfoni_equivalent_flux_errs[sinfoni_equivalent_flux>0], color='rebeccapurple', alpha=0.5, label='SINFONI (resampled)'\n",
    "    )\n",
    "\n",
    "    ax[1].set_xlabel('$\\lambda$ [$\\mu$m]')\n",
    "    ax[0].set_ylabel('flux [W m$^{-2}$ $\\mu$m$^{-1}$]')\n",
    "    ax[1].set_ylabel('flux [W m$^{-2}$ $\\mu$m$^{-1}$]')\n",
    "\n",
    "    ax[0].set_yticks([0, 5e-17, 10e-17])\n",
    "\n",
    "    ax[1].set_yticks([-5e-17, 0, 5e-17])\n",
    "    ax[0].legend()\n",
    "\n",
    "    residuals = gravity_spectrum[:,1][sinfoni_equivalent_flux>0] - sinfoni_equivalent_flux[sinfoni_equivalent_flux>0]\n",
    "    residual_errors = np.sqrt(gravity_spectrum[:,2][sinfoni_equivalent_flux>0]**2 + sinfoni_equivalent_flux_errs[sinfoni_equivalent_flux>0]**2)\n",
    "\n",
    "    ax[1].axhline(0, color='k', ls='--')\n",
    "    ax[1].fill_between(\n",
    "        gravity_wavelength[sinfoni_equivalent_flux>0],\n",
    "        residuals + residual_errors, residuals - residual_errors, color='purple', alpha=0.1, label='residuals'\n",
    "    )\n",
    "    ax[1].legend()\n",
    "    plt.savefig('results/plots/gravity_vs_sinfoni.png', dpi=250)"
   ]
  },
  {
   "cell_type": "code",
   "execution_count": 9,
   "id": "a2567437-b7a4-4409-8fa5-cc4308d00db1",
   "metadata": {
    "jupyter": {
     "outputs_hidden": true
    },
    "tags": []
   },
   "outputs": [
    {
     "name": "stdout",
     "output_type": "stream",
     "text": [
      "Adding object: HIP 65426 b\n",
      "   - Parallax (mas) = 9.30 +/- 0.03\n",
      "   - JWST/NIRCAM.F250M:\n",
      "      - Apparent magnitude = 17.16 +/- 0.14\n",
      "      - Flux (W m-2 um-1) = 3.45e-17 +/- 4.46e-18\n",
      "   - JWST/NIRCAM.F300M:\n",
      "      - Apparent magnitude = 16.83 +/- 0.12\n",
      "      - Flux (W m-2 um-1) = 2.42e-17 +/- 2.61e-18\n",
      "   - JWST/NIRCAM.F356W:\n",
      "      - Apparent magnitude = 16.07 +/- 0.12\n",
      "      - Flux (W m-2 um-1) = 2.51e-17 +/- 2.66e-18\n",
      "   - JWST/NIRCAM.F410M:\n",
      "      - Apparent magnitude = 15.78 +/- 0.12\n",
      "      - Flux (W m-2 um-1) = 1.92e-17 +/- 2.13e-18\n",
      "   - JWST/NIRCAM.F444W:\n",
      "      - Apparent magnitude = 15.70 +/- 0.13\n",
      "      - Flux (W m-2 um-1) = 1.57e-17 +/- 1.82e-18\n",
      "   - JWST/MIRI.F1140C:\n",
      "      - Apparent magnitude = 15.36 +/- 0.09\n",
      "      - Flux (W m-2 um-1) = 5.25e-19 +/- 4.50e-20\n",
      "   - JWST/MIRI.F1550C:\n",
      "      - Apparent magnitude = 15.20 +/- 0.18\n",
      "      - Flux (W m-2 um-1) = 1.74e-19 +/- 2.85e-20\n",
      "Deleting data: objects/HIP 65426 b/JWST/MIRI.F1550C... [DONE]\n",
      "Deleting data: objects/HIP 65426 b/JWST/MIRI.F1140C... [DONE]\n",
      "Deleting data: objects/HIP 65426 b/JWST/NIRCAM.F444W... [DONE]\n",
      "Deleting data: objects/HIP 65426 b/JWST/NIRCAM.F410M... [DONE]\n",
      "Deleting data: objects/HIP 65426 b/JWST/NIRCAM.F356W... [DONE]\n",
      "Deleting data: objects/HIP 65426 b/JWST/NIRCAM.F300M... [DONE]\n",
      "Deleting data: objects/HIP 65426 b/JWST/NIRCAM.F250M... [DONE]\n"
     ]
    }
   ],
   "source": [
    "database.add_object(\n",
    "        'HIP 65426 b',\n",
    "        parallax=plx,\n",
    "        app_mag={ # Carter et al. ERS vegamag\n",
    "                'JWST/NIRCAM.F250M':(17.163, 0.140),\n",
    "                'JWST/NIRCAM.F300M':(16.827, 0.117),\n",
    "                'JWST/NIRCAM.F356W':(16.067, 0.115),\n",
    "                'JWST/NIRCAM.F410M':(15.781, 0.120),\n",
    "                'JWST/NIRCAM.F444W':(15.701, 0.126),\n",
    "                'JWST/MIRI.F1140C':(15.357, 0.093),\n",
    "                'JWST/MIRI.F1550C':(15.197, 0.177)\n",
    "        },\n",
    "        spectrum=None, deredden=None)\n",
    "\n",
    "if not include_jwst:\n",
    "        database.delete_data('objects/HIP 65426 b/JWST/MIRI.F1550C')\n",
    "        database.delete_data('objects/HIP 65426 b/JWST/MIRI.F1140C')\n",
    "        database.delete_data('objects/HIP 65426 b/JWST/NIRCAM.F444W')\n",
    "        database.delete_data('objects/HIP 65426 b/JWST/NIRCAM.F410M')\n",
    "        database.delete_data('objects/HIP 65426 b/JWST/NIRCAM.F356W')\n",
    "        database.delete_data('objects/HIP 65426 b/JWST/NIRCAM.F300M')\n",
    "        database.delete_data('objects/HIP 65426 b/JWST/NIRCAM.F250M')\n"
   ]
  },
  {
   "cell_type": "code",
   "execution_count": 10,
   "id": "c0c6a144-6e60-4fb3-8fc4-0433977888e4",
   "metadata": {},
   "outputs": [
    {
     "name": "stdout",
     "output_type": "stream",
     "text": [
      "Unpacking BT-Settl CIFIST model spectra (1.4 GB)... [DONE]\n",
      "Wavelength range (um) = 0.1 - 5000\n",
      "Spectral resolution = 20000\n",
      "Teff range (K) = 1200.0 - 2000.0\n",
      "Adding BT-Settl CIFIST model spectra... [DONE]                                     \n",
      "Grid points stored in the database:\n",
      "   - Teff = [1200. 1300. 1400. 1500. 1600. 1700. 1800. 1900. 2000.]\n",
      "   - log(g) = [3.  3.5 4.  4.5 5.  5.5]\n",
      "Number of grid points per parameter:\n",
      "   - teff: 9\n",
      "   - logg: 6\n",
      "Fix missing grid points with a linear interpolation:\n",
      "Number of stored grid points: 54\n",
      "Number of interpolated grid points: 0\n",
      "Number of missing grid points: 0\n"
     ]
    }
   ],
   "source": [
    "database.add_model(model=model_choice, teff_range=(1200., 2000.))"
   ]
  },
  {
   "cell_type": "code",
   "execution_count": 11,
   "id": "4f4209df-e716-41fd-bc6a-dcd74081376f",
   "metadata": {
    "tags": []
   },
   "outputs": [
    {
     "name": "stdout",
     "output_type": "stream",
     "text": [
      "Getting object: HIP 65426 b... [DONE]\n",
      "Interpolating Paranal/SPHERE.IRDIS_D_H23_2... [DONE]\n",
      "Interpolating Paranal/SPHERE.IRDIS_D_H23_3... [DONE]\n",
      "Interpolating Paranal/SPHERE.IRDIS_D_K12_1... [DONE]\n",
      "Interpolating Paranal/SPHERE.IRDIS_D_K12_2... [DONE]\n",
      "Interpolating Paranal/NACO.Lp... [DONE]\n",
      "Interpolating Paranal/NACO.NB405... [DONE]\n",
      "Interpolating Paranal/NACO.Mp... [DONE]\n",
      "Interpolating GRAVITY... [DONE]\n",
      "Interpolating SPHERE_IFU... [DONE]\n",
      "Fitting 4 parameters:\n",
      "   - teff\n",
      "   - logg\n",
      "   - radius\n",
      "   - parallax\n",
      "Prior boundaries:\n",
      "   - teff = (1200, 1500)\n",
      "   - logg = (3.0, 5.5)\n",
      "   - radius = (0.5, 5.0)\n",
      "Weights for the log-likelihood function:\n",
      "   - GRAVITY = 1.00e+00\n",
      "   - SPHERE_IFU = 1.00e+00\n",
      "   - Paranal/SPHERE.IRDIS_D_H23_2 = 1.00e+00\n",
      "   - Paranal/SPHERE.IRDIS_D_H23_3 = 1.00e+00\n",
      "   - Paranal/SPHERE.IRDIS_D_K12_1 = 1.00e+00\n",
      "   - Paranal/SPHERE.IRDIS_D_K12_2 = 1.00e+00\n",
      "   - Paranal/NACO.Lp = 1.00e+00\n",
      "   - Paranal/NACO.NB405 = 1.00e+00\n",
      "   - Paranal/NACO.Mp = 1.00e+00\n"
     ]
    }
   ],
   "source": [
    "inc_phot = [\n",
    "        'Paranal/SPHERE.IRDIS_D_H23_2',\n",
    "        'Paranal/SPHERE.IRDIS_D_H23_3',\n",
    "        'Paranal/SPHERE.IRDIS_D_K12_1',\n",
    "        'Paranal/SPHERE.IRDIS_D_K12_2',\n",
    "        'Paranal/NACO.Lp',\n",
    "        'Paranal/NACO.NB405',\n",
    "        'Paranal/NACO.Mp'\n",
    "]\n",
    "\n",
    "if include_jwst:\n",
    "    inc_phot += [\n",
    "        'JWST/NIRCAM.F250M',\n",
    "        'JWST/NIRCAM.F300M',\n",
    "        'JWST/NIRCAM.F356W',\n",
    "        'JWST/NIRCAM.F410M',\n",
    "        'JWST/NIRCAM.F444W',\n",
    "        'JWST/MIRI.F1140C',\n",
    "        'JWST/MIRI.F1550C'\n",
    "    ]\n",
    "\n",
    "if sphere_gp:\n",
    "    fit_corr=['SPHERE_IFU']\n",
    "else:\n",
    "    fit_corr=[]\n",
    "if teff_lowprior:\n",
    "    teff_bounds = (1200, 1500)\n",
    "else:\n",
    "    teff_bounds = (1500, 2000)\n",
    "fit = species.FitModel(\n",
    "        object_name='HIP 65426 b',\n",
    "        model=model_choice,\n",
    "        bounds={'teff': teff_bounds}, # using same bounds as Petrus 2021\n",
    "        inc_phot=inc_phot,\n",
    "        inc_spec=True,\n",
    "        fit_corr=fit_corr,\n",
    "        weights=None\n",
    ")\n"
   ]
  },
  {
   "cell_type": "code",
   "execution_count": 12,
   "id": "b291e74b-c5df-4dbf-b80c-c661851b0f7f",
   "metadata": {},
   "outputs": [],
   "source": [
    "tag='hip65426_{}'.format(filepref.split('/')[1])"
   ]
  },
  {
   "cell_type": "code",
   "execution_count": 13,
   "id": "0ec757d6-1200-4279-bb44-91d416e1f78d",
   "metadata": {
    "tags": []
   },
   "outputs": [
    {
     "name": "stdout",
     "output_type": "stream",
     "text": [
      "Running nested sampling with MultiNest...\n",
      " *****************************************************\n",
      " MultiNest v3.10\n",
      " Copyright Farhan Feroz & Mike Hobson\n",
      " Release Jul 2015\n",
      "\n",
      " no. of live points = 1000\n",
      " dimensionality =    4\n",
      " *****************************************************\n"
     ]
    },
    {
     "name": "stderr",
     "output_type": "stream",
     "text": [
      "/Users/bluez3303/miniconda3/envs/multinest/lib/python3.10/site-packages/pymultinest/run.py:208: DeprecationWarning: inspect.getargspec() is deprecated since Python 3.0, use inspect.signature() or inspect.getfullargspec()\n",
      "  nargs = len(inspect.getargspec(LogLikelihood).args) - inspect.ismethod(LogLikelihood)\n"
     ]
    },
    {
     "name": "stdout",
     "output_type": "stream",
     "text": [
      "  analysing data from results/gravity_nosphereGP_tefflo_bt-settl-cifist/multinest/.txt ln(ev)=   8858.1706713463500      +/-   9.7564654772780257E-002\n",
      " Total Likelihood Evaluations:        25949\n",
      " Sampling finished. Exiting MultiNest\n",
      "\n",
      "Nested sampling global log-evidence: 8858.17 +/- 0.10\n",
      "Nested importance sampling global log-evidence: 8857.76 +/- 0.06\n",
      "Sample with the highest likelihood:\n",
      "   - Log-likelihood = 8869.58\n",
      "   - teff = 1485.95\n",
      "   - logg = 3.00\n",
      "   - radius = 1.43\n",
      "   - parallax = 9.32\n",
      "Integrated autocorrelation time:\n",
      "   - teff: 2.49\n",
      "   - logg: 34.31\n",
      "   - radius: 32.57\n",
      "   - parallax: 12.79\n"
     ]
    }
   ],
   "source": [
    "fit.run_multinest(tag=tag,\n",
    "                  n_live_points=1000,\n",
    "                  output='{}multinest/'.format(filepref),\n",
    "                #   prior={'mass': (7.1, 1.1)} # prior from evol model, can include or disregard\n",
    "                 )"
   ]
  },
  {
   "cell_type": "code",
   "execution_count": 14,
   "id": "b34bb8e4-f321-4334-b5bc-67ff409422df",
   "metadata": {},
   "outputs": [
    {
     "name": "stdout",
     "output_type": "stream",
     "text": [
      "Median sample:\n",
      "   - teff = 1.48e+03\n",
      "   - logg = 3.87e+00\n",
      "   - radius = 1.21e+00\n",
      "   - parallax = 9.30e+00\n",
      "Plotting the posterior: results/gravity_nosphereGP_tefflo_bt-settl-cifist/post.png... [DONE]\n"
     ]
    }
   ],
   "source": [
    "post = species.plot_posterior(tag=tag,\n",
    "                       offset=(-0.3 , -0.3),\n",
    "                       # title_fmt=['.0f', '.2f', '.2f', '.2f', '.2f', '.2f', '.3f', '.1f'],\n",
    "                       inc_luminosity=True,\n",
    "                       inc_mass=True,\n",
    "                       output='{}post.png'.format(filepref))"
   ]
  },
  {
   "cell_type": "code",
   "execution_count": 19,
   "id": "70a244a6-7f55-40ec-a213-285bd299556a",
   "metadata": {},
   "outputs": [
    {
     "data": {
      "application/vnd.jupyter.widget-view+json": {
       "model_id": "2a177bd1b01c4dc88533186973be712f",
       "version_major": 2,
       "version_minor": 0
      },
      "text/plain": [
       "Getting MCMC spectra:   0%|          | 0/30 [00:00<?, ?it/s]"
      ]
     },
     "metadata": {},
     "output_type": "display_data"
    },
    {
     "name": "stdout",
     "output_type": "stream",
     "text": [
      "Getting object: HIP 65426 b... [DONE]\n",
      "Calculating synthetic photometry... [DONE]\n"
     ]
    },
    {
     "name": "stderr",
     "output_type": "stream",
     "text": [
      "/Users/bluez3303/miniconda3/envs/multinest/lib/python3.10/site-packages/species/util/read_util.py:176: DeprecationWarning: The update_spectra function is deprecated and will be removed in a future release. Please use the update_objectbox function instead.\n",
      "  warnings.warn(\n"
     ]
    },
    {
     "name": "stdout",
     "output_type": "stream",
     "text": [
      "Calculating residuals... [DONE]\n",
      "Residuals (sigma):\n",
      "   - Paranal/NACO.Lp: 0.63\n",
      "   - Paranal/NACO.Mp: 2.24\n",
      "   - Paranal/NACO.NB405: 0.03\n",
      "   - Paranal/SPHERE.IRDIS_D_H23_2: 2.24\n",
      "   - Paranal/SPHERE.IRDIS_D_H23_3: 3.46\n",
      "   - Paranal/SPHERE.IRDIS_D_K12_1: 0.15\n",
      "   - Paranal/SPHERE.IRDIS_D_K12_2: -0.20\n",
      "   - GRAVITY: min: -1.98, max: 2.48\n",
      "   - SPHERE_IFU: min: -4.33, max: 1.86\n",
      "Reduced chi2 = 0.90\n",
      "Number of degrees of freedom = 232\n",
      "Calculating synthetic photometry... [DONE]\n",
      "Plotting spectrum: results/gravity_nosphereGP_tefflo_bt-settl-cifist/HIP65426b-SED.pdf... [DONE]\n"
     ]
    }
   ],
   "source": [
    "samples = database.get_mcmc_spectra(tag=tag,\n",
    "                                    random=30,\n",
    "                                    wavel_range=None,\n",
    "                                    spec_res=500.)\n",
    "\n",
    "best = database.get_median_sample(tag=tag)\n",
    "\n",
    "read_model = species.ReadModel(model=model_choice,\n",
    "                               wavel_range=None)\n",
    "\n",
    "modelbox = read_model.get_model(model_param=best,\n",
    "                                spec_res=500.,\n",
    "                                smooth=True)\n",
    "\n",
    "objectbox = database.get_object(object_name='HIP 65426 b',\n",
    "                                inc_phot=True,\n",
    "                                inc_spec=True)\n",
    "\n",
    "objectbox = species.update_spectra(objectbox=objectbox,\n",
    "                                   model_param=best)\n",
    "\n",
    "residuals = species.get_residuals(datatype='model',\n",
    "                                  spectrum=model_choice,\n",
    "                                  parameters=best,\n",
    "                                  objectbox=objectbox,\n",
    "                                  inc_phot=True,\n",
    "                                  inc_spec=True)\n",
    "\n",
    "synphot = species.multi_photometry(datatype='model',\n",
    "                                   spectrum=model_choice,\n",
    "                                   filters=objectbox.filters,\n",
    "                                   parameters=best)\n",
    "\n",
    "species.plot_spectrum(boxes=[samples, modelbox, objectbox, synphot],\n",
    "                      filters=objectbox.filters,\n",
    "                      residuals=residuals,\n",
    "                      plot_kwargs=[{'ls': '-', 'lw': 0.2, 'color': 'gray'},\n",
    "                                   {'ls': '-', 'lw': 1., 'color': 'black'},\n",
    "                                   {'GRAVITY': {'marker': '.', 'ms': 5., 'mew': 0., 'color': 'seagreen', 'ls': 'none', 'alpha': 0.3, 'label': 'GRAVITY'},\n",
    "                                    'SINFONI-K': {'marker': '.', 'ms': 5., 'mew': 0., 'color': 'seagreen', 'ls': 'none', 'alpha': 0.3, 'label': 'SINFONI-K'},\n",
    "                                    'SPHERE_IFU': {'marker': 's', 'ms': 2., 'mew': 0., 'color': 'cornflowerblue', 'ls': '', 'alpha': 1, 'label': 'SPHERE IFU'},\n",
    "                                    'Paranal/NACO.Lp': {'marker': 's', 'ms': 5., 'color': 'tomato', 'ls': 'none', 'label':'NACO'},\n",
    "                                    'Paranal/NACO.NB405': {'marker': 's', 'markersize': 5., 'color': 'tomato', 'ls': 'none'},\n",
    "                                    'Paranal/NACO.Mp': {'marker': 's', 'markersize': 5., 'color': 'tomato', 'ls': 'none'},\n",
    "                                    'JWST/NIRCAM.F250M': {'marker': 's', 'markersize': 5., 'color': 'xkcd:mustard', 'ls': 'none', 'label':'JWST/NIRCAM'},\n",
    "                                    'JWST/NIRCAM.F300M': {'marker': 's', 'markersize': 5., 'color': 'xkcd:mustard', 'ls': 'none'},\n",
    "                                    'JWST/NIRCAM.F356W': {'marker': 's', 'markersize': 5., 'color': 'xkcd:mustard', 'ls': 'none'},\n",
    "                                    'JWST/NIRCAM.F410M': {'marker': 's', 'markersize': 5., 'color': 'xkcd:mustard', 'ls': 'none'},\n",
    "                                    'JWST/NIRCAM.F444W': {'marker': 's', 'markersize': 5., 'color': 'xkcd:mustard', 'ls': 'none'},\n",
    "                                    'JWST/MIRI.F1140C': {'marker': 's', 'markersize': 5., 'color': 'purple', 'ls': 'none', 'label':'JWST/MIRI'},\n",
    "                                    'JWST/MIRI.F1550C': {'marker': 's', 'markersize': 5., 'color': 'purple', 'ls': 'none'},\n",
    "                                    'Paranal/SPHERE.IRDIS_D_H23_2': {'marker': '^', 'ms': 7., 'mew': 0., 'color': 'hotpink', 'ls': '', 'alpha': 1, 'label': 'SPHERE'},\n",
    "                                    'Paranal/SPHERE.IRDIS_D_H23_3': {'marker': '^', 'ms': 7., 'mew': 0., 'color': 'hotpink', 'ls': '', 'alpha': 1},\n",
    "                                    'Paranal/SPHERE.IRDIS_D_K12_1': {'marker': '^', 'ms': 7., 'mew': 0., 'color': 'hotpink', 'ls': '', 'alpha': 1},\n",
    "                                    'Paranal/SPHERE.IRDIS_D_K12_2': {'marker': '^', 'ms': 7., 'mew': 0., 'color': 'hotpink', 'ls': '', 'alpha': 1},\n",
    "                                   },\n",
    "                                    None],\n",
    "                      xlim=(0.8, 10.),\n",
    "                      # ylim=(1.15e-20, 2e-16),\n",
    "                      ylim_res=(-6., 6.),\n",
    "                      scale=('log', 'linear'),\n",
    "                      offset=(-0.4, -0.05),\n",
    "                      legend=[{'loc': 'lower left', 'frameon': False, 'fontsize': 11.},\n",
    "                              {'loc': 'upper right', 'frameon': False, 'fontsize': 12.}],\n",
    "                      figsize=(12., 6.),\n",
    "                      quantity='flux density',\n",
    "                      output=filepref+'HIP65426b-SED.pdf'\n",
    "                     )"
   ]
  },
  {
   "cell_type": "code",
   "execution_count": null,
   "id": "23956cb6",
   "metadata": {},
   "outputs": [],
   "source": []
  }
 ],
 "metadata": {
  "kernelspec": {
   "display_name": "multinest",
   "language": "python",
   "name": "python3"
  },
  "language_info": {
   "codemirror_mode": {
    "name": "ipython",
    "version": 3
   },
   "file_extension": ".py",
   "mimetype": "text/x-python",
   "name": "python",
   "nbconvert_exporter": "python",
   "pygments_lexer": "ipython3",
   "version": "3.10.9"
  },
  "vscode": {
   "interpreter": {
    "hash": "6efb16e1116801fe66cb5fbb2e877592a4abf26c259fb5d7c6845495c7ce7673"
   }
  }
 },
 "nbformat": 4,
 "nbformat_minor": 5
}
