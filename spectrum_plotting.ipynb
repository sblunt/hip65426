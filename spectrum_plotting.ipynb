{
 "cells": [
  {
   "cell_type": "markdown",
   "id": "cf9f84da-88d3-4e5c-86e5-2b701cb87181",
   "metadata": {},
   "source": [
    "## Notes\n",
    "\n",
    "This notebook only contains fitting and plotting code for the observed spectrum of HIP 65426 b as of January 2023, for the ExoGRAVITY collaboration. It does not include the code used to extract or flux calibrate this spectrum. The spectrum was extracted from one night of GRAVITY data for which there is a reliable on-axis observation, namely the Jan. 7th, 2021 observation of the system. The spectrum was extracted using the currently (as of Jan. 2023) ExoGRAVITY pipeline (see Appendix B in Nowak et al. 2020 for an outline of the data reduction steps), and flux calibrated using a BT-NextGen spectrum fit to archive photometry of the host, and scaled to match the SPHERE K1 photometry (about a factor of 0.5) of the companion. For more information on this, text for your paper, or for additional plots, contact W. Balmer :~)\n",
    "\n",
    "This notebook assumes you have installed $\\texttt{species}$, a toolkit for analyzing direct imaging observations. You can therefore change the model you fit to the observations (by default, the BT-Settl-Cifist model worked well when I was working on this target for the JWST ERS paper, but there are others listed on the species webpage), the number of live points, etc. and can save plots of the posterior of fit parameters, and the spectrum. "
   ]
  },
  {
   "cell_type": "code",
   "execution_count": 32,
   "id": "b0dec025-33ec-4fb4-b5fb-d576d81a25e0",
   "metadata": {},
   "outputs": [],
   "source": [
    "import numpy as np\n",
    "import os\n",
    "import pandas as pd\n",
    "import matplotlib.pyplot as plt\n"
   ]
  },
  {
   "cell_type": "code",
   "execution_count": 33,
   "id": "efb1c20c-f11d-4b21-898c-f9de2d8ecd6f",
   "metadata": {
    "tags": []
   },
   "outputs": [],
   "source": [
    "# optional, set my personal preference for plots\n",
    "# you can use this cell to define your plotting style instead\n",
    "import seaborn as sb\n",
    "plt.rcParams['font.family'] = 'monospace'   # Fonts\n",
    "plt.rcParams['font.monospace'] = 'DejaVu Sans Mono'\n",
    "sb.set_context(\"paper\")"
   ]
  },
  {
   "cell_type": "code",
   "execution_count": 34,
   "id": "15476709-f65a-45a7-b768-4bc019749cd8",
   "metadata": {},
   "outputs": [
    {
     "name": "stdout",
     "output_type": "stream",
     "text": [
      "Initiating species v0.5.5... [DONE]\n",
      "Database: /Users/bluez3303/Documents/GitHub/hip65426/species_database.hdf5\n",
      "Data folder: /Users/bluez3303/Documents/GitHub/hip65426/data\n",
      "Working folder: /Users/bluez3303/Documents/GitHub/hip65426\n",
      "Grid interpolation method: linear\n"
     ]
    }
   ],
   "source": [
    "# initialize species\n",
    "# this notebook will work, even if you have a clean installation of the package\n",
    "# see https://species.readthedocs.io/ for more\n",
    "import species\n",
    "species.SpeciesInit()\n",
    "database = species.Database()"
   ]
  },
  {
   "cell_type": "code",
   "execution_count": 38,
   "id": "8136200b-d69b-4c8b-bbb1-d3f33d593825",
   "metadata": {},
   "outputs": [],
   "source": [
    "include_gravity = True\n",
    "\n",
    "if include_gravity:\n",
    "    filepref = 'results/with_gravity/'\n",
    "else:\n",
    "    filepref = 'results/with_sinfoni/'\n",
    "if not os.path.isdir(filepref):\n",
    "    os.mkdir(filepref)"
   ]
  },
  {
   "cell_type": "code",
   "execution_count": 39,
   "id": "7bf2bfb4-079a-4c16-9db9-8db596ae8d3d",
   "metadata": {},
   "outputs": [],
   "source": [
    "# download and shape up the HIP 65426 b SPHERE spectrum\n",
    "import urllib.request\n",
    "\n",
    "urllib.request.urlretrieve(\n",
    "    'https://home.strw.leidenuniv.nl/~stolker/species/spectra/hip65426_sphere_yjh.dat', \n",
    "    'data/hip65426_sphere_yjh.dat'\n",
    ")\n",
    "\n",
    "sphere_yjh = pd.read_csv('data/hip65426_sphere_yjh.dat', delim_whitespace=True, comment='#', names=['l','f','fe'])\n",
    "sphere_yjh = sphere_yjh[2:]\n",
    "sphere_yjh.to_csv('data/hip65426_sphere_yjh.dat', sep=' ', header=False, index=False)\n",
    "\n",
    "# get the "
   ]
  },
  {
   "cell_type": "code",
   "execution_count": 40,
   "id": "1f3690f9-1f70-4c51-aaaf-898b9eab9bd8",
   "metadata": {},
   "outputs": [],
   "source": [
    "plx = (9.3031,0.0346)"
   ]
  },
  {
   "cell_type": "code",
   "execution_count": 42,
   "id": "2191409d-ffcf-4967-88f5-0232acfe3543",
   "metadata": {
    "jupyter": {
     "outputs_hidden": true
    },
    "tags": []
   },
   "outputs": [
    {
     "name": "stdout",
     "output_type": "stream",
     "text": [
      "Adding object: HIP 65426 b\n",
      "   - Parallax (mas) = 9.30 +/- 0.03\n",
      "   - Spectrum:\n",
      "      - Database tag: SPHERE_IFU\n",
      "      - Filename: results/with_gravity/hip65426_sphere_yjh.dat\n",
      "      - Data shape: (37, 3)\n",
      "      - Wavelength range (um): 0.99 - 1.64\n",
      "      - Mean flux (W m-2 um-1): 5.54e-17\n",
      "      - Mean error (W m-2 um-1): 5.45e-18\n",
      "   - GRAVITY spectrum:\n",
      "      - Object: HIP 65426 B\n",
      "      - Database tag: GRAVITY\n",
      "      - Filename: data/HIP65426B_GRAVITYK_spectrum_fluxcal_scaled.fits\n",
      "      - Data shape: (192, 3)\n",
      "      - Wavelength range (um): 2.05 - 2.48\n",
      "      - Mean flux (W m-2 um-1): 6.48e-17\n",
      "      - Mean error (W m-2 um-1): 1.60e-17\n",
      "   - GRAVITY covariance matrix:\n",
      "      - Object: HIP 65426 B\n",
      "      - Database tag: GRAVITY\n",
      "      - Filename: data/HIP65426B_GRAVITYK_spectrum_fluxcal_scaled.fits\n",
      "      - Data shape: (192, 192)\n",
      "   - Spectral resolution:\n",
      "      - SPHERE_IFU: 40.0\n",
      "      - GRAVITY: 500.0\n"
     ]
    }
   ],
   "source": [
    "spectrum = {\n",
    "  'SPHERE_IFU': ('data/hip65426_sphere_yjh.dat', None, 40.)\n",
    "}\n",
    "\n",
    "if include_gravity:\n",
    "  spectrum['GRAVITY'] = (\n",
    "    'data/HIP65426B_GRAVITYK_spectrum_fluxcal_scaled.fits', \n",
    "    'data/HIP65426B_GRAVITYK_spectrum_fluxcal_scaled.fits', \n",
    "    500.\n",
    "  )\n",
    "\n",
    "\n",
    "\n",
    "database.add_object(\n",
    "  'HIP 65426 b',\n",
    "  parallax=plx, app_mag=None, flux_density=None,\n",
    "  spectrum=spectrum, deredden=None\n",
    ")"
   ]
  },
  {
   "cell_type": "code",
   "execution_count": 43,
   "id": "807d765b-5b14-401b-8eb3-5cc128294a79",
   "metadata": {
    "jupyter": {
     "outputs_hidden": true
    },
    "tags": []
   },
   "outputs": [
    {
     "name": "stdout",
     "output_type": "stream",
     "text": [
      "Adding object: HIP 65426 b\n",
      "   - Parallax (mas) = 9.30 +/- 0.03\n",
      "   - Paranal/SPHERE.IRDIS_D_H23_2:\n",
      "      - Apparent magnitude = 17.94 +/- 0.05\n",
      "      - Flux (W m-2 um-1) = 8.73e-17 +/- 4.02e-18\n",
      "   - Paranal/SPHERE.IRDIS_D_H23_3:\n",
      "      - Apparent magnitude = 17.58 +/- 0.06\n",
      "      - Flux (W m-2 um-1) = 1.03e-16 +/- 5.70e-18\n",
      "   - Paranal/SPHERE.IRDIS_D_K12_1:\n",
      "      - Apparent magnitude = 17.01 +/- 0.09\n",
      "      - Flux (W m-2 um-1) = 7.63e-17 +/- 6.33e-18\n",
      "   - Paranal/SPHERE.IRDIS_D_K12_2:\n",
      "      - Apparent magnitude = 16.79 +/- 0.09\n",
      "      - Flux (W m-2 um-1) = 7.21e-17 +/- 5.98e-18\n",
      "   - Paranal/NACO.Lp:\n",
      "      - Apparent magnitude = 15.33 +/- 0.12\n",
      "      - Flux (W m-2 um-1) = 3.88e-17 +/- 4.30e-18\n",
      "   - Paranal/NACO.NB405:\n",
      "      - Apparent magnitude = 15.23 +/- 0.22\n",
      "      - Flux (W m-2 um-1) = 3.21e-17 +/- 6.55e-18\n",
      "   - Paranal/NACO.Mp:\n",
      "      - Apparent magnitude = 14.65 +/- 0.29\n",
      "      - Flux (W m-2 um-1) = 2.99e-17 +/- 8.07e-18\n"
     ]
    }
   ],
   "source": [
    "# add archival companion photometry\n",
    "database.add_companion(name='HIP 65426 b')"
   ]
  },
  {
   "cell_type": "code",
   "execution_count": 49,
   "id": "a2567437-b7a4-4409-8fa5-cc4308d00db1",
   "metadata": {
    "jupyter": {
     "outputs_hidden": true
    },
    "tags": []
   },
   "outputs": [
    {
     "name": "stdout",
     "output_type": "stream",
     "text": [
      "Adding object: HIP 65426 b\n",
      "   - Parallax (mas) = 9.30 +/- 0.03\n",
      "   - JWST/NIRCAM.F250M:\n",
      "      - Apparent magnitude = 17.16 +/- 0.14\n",
      "      - Flux (W m-2 um-1) = 3.45e-17 +/- 4.46e-18\n",
      "   - JWST/NIRCAM.F300M:\n",
      "      - Apparent magnitude = 16.83 +/- 0.12\n",
      "      - Flux (W m-2 um-1) = 2.42e-17 +/- 2.61e-18\n",
      "   - JWST/NIRCAM.F356W:\n",
      "      - Apparent magnitude = 16.07 +/- 0.12\n",
      "      - Flux (W m-2 um-1) = 2.51e-17 +/- 2.66e-18\n",
      "   - JWST/NIRCAM.F410M:\n",
      "      - Apparent magnitude = 15.78 +/- 0.12\n",
      "      - Flux (W m-2 um-1) = 1.92e-17 +/- 2.13e-18\n",
      "   - JWST/NIRCAM.F444W:\n",
      "      - Apparent magnitude = 15.70 +/- 0.13\n",
      "      - Flux (W m-2 um-1) = 1.57e-17 +/- 1.82e-18\n",
      "   - JWST/MIRI.F1140C:\n",
      "      - Apparent magnitude = 15.36 +/- 0.09\n",
      "      - Flux (W m-2 um-1) = 5.25e-19 +/- 4.50e-20\n",
      "   - JWST/MIRI.F1550C:\n",
      "      - Apparent magnitude = 15.20 +/- 0.18\n",
      "      - Flux (W m-2 um-1) = 1.74e-19 +/- 2.85e-20\n",
      "Deleting data: objects/HIP 65426 b/Paranal/NACO.Lp... [DONE]\n",
      "Deleting data: objects/HIP 65426 b/Paranal/NACO.NB405... [DONE]\n",
      "Deleting data: objects/HIP 65426 b/Paranal/NACO.Mp... [DONE]\n"
     ]
    }
   ],
   "source": [
    "database.add_object(\n",
    "        'HIP 65426 b',\n",
    "        parallax=plx,\n",
    "        app_mag={ # Carter et al. ERS vegamag\n",
    "                'JWST/NIRCAM.F250M':(17.163, 0.140),\n",
    "                'JWST/NIRCAM.F300M':(16.827, 0.117),\n",
    "                'JWST/NIRCAM.F356W':(16.067, 0.115),\n",
    "                'JWST/NIRCAM.F410M':(15.781, 0.120),\n",
    "                'JWST/NIRCAM.F444W':(15.701, 0.126),\n",
    "                'JWST/MIRI.F1140C':(15.357, 0.093),\n",
    "                'JWST/MIRI.F1550C':(15.197, 0.177)\n",
    "        },\n",
    "        spectrum=None, deredden=None)\n",
    "\n",
    "# optionally, can include to remove NACO photometry that disagrees with JWST\n",
    "database.delete_data('objects/HIP 65426 b/Paranal/NACO.Lp')\n",
    "database.delete_data('objects/HIP 65426 b/Paranal/NACO.NB405')\n",
    "database.delete_data('objects/HIP 65426 b/Paranal/NACO.Mp')\n"
   ]
  },
  {
   "cell_type": "code",
   "execution_count": 45,
   "id": "3ea07ffd-49ec-4295-8993-62229841ce62",
   "metadata": {},
   "outputs": [],
   "source": [
    "model_choice = 'bt-settl-cifist'"
   ]
  },
  {
   "cell_type": "code",
   "execution_count": 46,
   "id": "c0c6a144-6e60-4fb3-8fc4-0433977888e4",
   "metadata": {},
   "outputs": [
    {
     "name": "stdout",
     "output_type": "stream",
     "text": [
      "Unpacking BT-Settl CIFIST model spectra (1.4 GB)... [DONE]\n",
      "Wavelength range (um) = 0.1 - 5000\n",
      "Spectral resolution = 20000\n",
      "Teff range (K) = 1000.0 - 1700.0\n",
      "Adding BT-Settl CIFIST model spectra... [DONE]                                     \n",
      "Grid points stored in the database:\n",
      "   - Teff = [1200. 1300. 1400. 1500. 1600. 1700.]\n",
      "   - log(g) = [3.  3.5 4.  4.5 5.  5.5]\n",
      "Number of grid points per parameter:\n",
      "   - teff: 6\n",
      "   - logg: 6\n",
      "Fix missing grid points with a linear interpolation:\n",
      "Number of stored grid points: 36\n",
      "Number of interpolated grid points: 0\n",
      "Number of missing grid points: 0\n"
     ]
    }
   ],
   "source": [
    "database.add_model(model=model_choice, teff_range=(1000., 1700.))"
   ]
  },
  {
   "cell_type": "code",
   "execution_count": 14,
   "id": "4f4209df-e716-41fd-bc6a-dcd74081376f",
   "metadata": {
    "tags": []
   },
   "outputs": [
    {
     "name": "stdout",
     "output_type": "stream",
     "text": [
      "Getting object: HIP 65426 b... [DONE]\n",
      "Interpolating JWST/NIRCAM.F250M... [DONE]\n",
      "Interpolating JWST/NIRCAM.F300M... [DONE]\n",
      "Interpolating JWST/NIRCAM.F356W... [DONE]\n",
      "Interpolating JWST/NIRCAM.F410M... [DONE]\n",
      "Interpolating JWST/NIRCAM.F444W... [DONE]\n",
      "Interpolating JWST/MIRI.F1140C... [DONE]\n",
      "Interpolating JWST/MIRI.F1550C... [DONE]\n",
      "Interpolating Paranal/SPHERE.IRDIS_D_H23_2... [DONE]\n",
      "Interpolating Paranal/SPHERE.IRDIS_D_H23_3... [DONE]\n",
      "Interpolating Paranal/SPHERE.IRDIS_D_K12_1... [DONE]\n",
      "Interpolating Paranal/SPHERE.IRDIS_D_K12_2... [DONE]\n",
      "Interpolating SPHERE_IFU... [DONE]\n",
      "Fitting 6 parameters:\n",
      "   - teff\n",
      "   - logg\n",
      "   - radius\n",
      "   - parallax\n",
      "   - corr_len_SPHERE_IFU\n",
      "   - corr_amp_SPHERE_IFU\n",
      "Prior boundaries:\n",
      "   - teff = (1200.0, 1700.0)\n",
      "   - logg = (3.0, 5.5)\n",
      "   - radius = (0.5, 5.0)\n",
      "   - corr_len_SPHERE_IFU = (-3.0, 0.0)\n",
      "   - corr_amp_SPHERE_IFU = (0.0, 1.0)\n",
      "Weights for the log-likelihood function:\n",
      "   - SPHERE_IFU = 1.00e+00\n",
      "   - JWST/NIRCAM.F250M = 1.00e+00\n",
      "   - JWST/NIRCAM.F300M = 1.00e+00\n",
      "   - JWST/NIRCAM.F356W = 1.00e+00\n",
      "   - JWST/NIRCAM.F410M = 1.00e+00\n",
      "   - JWST/NIRCAM.F444W = 1.00e+00\n",
      "   - JWST/MIRI.F1140C = 1.00e+00\n",
      "   - JWST/MIRI.F1550C = 1.00e+00\n",
      "   - Paranal/SPHERE.IRDIS_D_H23_2 = 1.00e+00\n",
      "   - Paranal/SPHERE.IRDIS_D_H23_3 = 1.00e+00\n",
      "   - Paranal/SPHERE.IRDIS_D_K12_1 = 1.00e+00\n",
      "   - Paranal/SPHERE.IRDIS_D_K12_2 = 1.00e+00\n"
     ]
    }
   ],
   "source": [
    "inc_spec = True\n",
    "\n",
    "inc_phot = [\n",
    "'JWST/NIRCAM.F250M',\n",
    "'JWST/NIRCAM.F300M',\n",
    "'JWST/NIRCAM.F356W',\n",
    "'JWST/NIRCAM.F410M',\n",
    "'JWST/NIRCAM.F444W',\n",
    "'JWST/MIRI.F1140C',\n",
    "'JWST/MIRI.F1550C',\n",
    "'Paranal/SPHERE.IRDIS_D_H23_2',\n",
    "'Paranal/SPHERE.IRDIS_D_H23_3',\n",
    "'Paranal/SPHERE.IRDIS_D_K12_1',\n",
    "'Paranal/SPHERE.IRDIS_D_K12_2',\n",
    "           ]\n",
    "\n",
    "fit = species.FitModel(\n",
    "        object_name='HIP 65426 b',\n",
    "        model=model_choice,\n",
    "        bounds={# 'teff': (1200., 1700.),\n",
    "                # 'radius': (0.5, 2.),\n",
    "                # 'SPHERE_IFU': ((0.5, 1.5), None),\n",
    "                # 'GRAVITY': ((0.5, 1.5), None),\n",
    "        },\n",
    "        inc_phot=inc_phot,\n",
    "        inc_spec=inc_spec,\n",
    "        fit_corr=['SPHERE_IFU'],\n",
    "        weights=None\n",
    ")\n"
   ]
  },
  {
   "cell_type": "code",
   "execution_count": 12,
   "id": "b291e74b-c5df-4dbf-b80c-c661851b0f7f",
   "metadata": {},
   "outputs": [],
   "source": [
    "tag='hip65426-plusjwst'"
   ]
  },
  {
   "cell_type": "code",
   "execution_count": 15,
   "id": "0ec757d6-1200-4279-bb44-91d416e1f78d",
   "metadata": {
    "tags": []
   },
   "outputs": [
    {
     "name": "stdout",
     "output_type": "stream",
     "text": [
      "Running nested sampling with MultiNest...\n",
      " *****************************************************\n",
      " MultiNest v3.10\n",
      " Copyright Farhan Feroz & Mike Hobson\n",
      " Release Jul 2015\n",
      "\n",
      " no. of live points =  300\n",
      " dimensionality =    6\n",
      " *****************************************************\n"
     ]
    },
    {
     "name": "stderr",
     "output_type": "stream",
     "text": [
      "/Users/bluez3303/miniconda3/envs/multinest/lib/python3.10/site-packages/pymultinest/run.py:208: DeprecationWarning: inspect.getargspec() is deprecated since Python 3.0, use inspect.signature() or inspect.getfullargspec()\n",
      "  nargs = len(inspect.getargspec(LogLikelihood).args) - inspect.ismethod(LogLikelihood)\n"
     ]
    },
    {
     "name": "stdout",
     "output_type": "stream",
     "text": [
      "  analysing data from multinest/.txt ln(ev)=   1833.0985913710313      +/-  0.18245323467049335     \n",
      " Total Likelihood Evaluations:        10015\n",
      " Sampling finished. Exiting MultiNest\n",
      "\n",
      "Nested sampling global log-evidence: 1833.10 +/- 0.18\n",
      "Nested importance sampling global log-evidence: 1832.45 +/- 0.08\n",
      "Sample with the highest likelihood:\n",
      "   - Log-likelihood = 1845.39\n",
      "   - teff = 1674.48\n",
      "   - logg = 4.12\n",
      "   - radius = 0.89\n",
      "   - parallax = 9.23\n",
      "   - corr_len_SPHERE_IFU = -1.43\n",
      "   - corr_amp_SPHERE_IFU = 0.61\n",
      "Integrated autocorrelation time:\n",
      "   - teff: 3.12\n",
      "   - logg: 2.72\n",
      "   - radius: 1.91\n",
      "   - parallax: 7.55\n",
      "   - corr_len_SPHERE_IFU: 3.11\n",
      "   - corr_amp_SPHERE_IFU: 2.20\n"
     ]
    }
   ],
   "source": [
    "fit.run_multinest(tag=tag,\n",
    "                  n_live_points=300,\n",
    "                  output='multinest/',\n",
    "                  prior={'mass': (7.1, 1.1)} # prior from evol model, can include or disregard\n",
    "                 )"
   ]
  },
  {
   "cell_type": "code",
   "execution_count": 18,
   "id": "b34bb8e4-f321-4334-b5bc-67ff409422df",
   "metadata": {},
   "outputs": [
    {
     "name": "stdout",
     "output_type": "stream",
     "text": [
      "Median sample:\n",
      "   - teff = 1.67e+03\n",
      "   - logg = 4.15e+00\n",
      "   - radius = 8.82e-01\n",
      "   - parallax = 9.30e+00\n",
      "   - corr_len_SPHERE_IFU = -1.25e+00\n",
      "   - corr_amp_SPHERE_IFU = 4.89e-01\n",
      "Plotting the posterior: ./data/post.png... [DONE]\n"
     ]
    }
   ],
   "source": [
    "post = species.plot_posterior(tag=tag,\n",
    "                       offset=(-0.3 , -0.3),\n",
    "                       # title_fmt=['.0f', '.2f', '.2f', '.2f', '.2f', '.2f', '.3f', '.1f'],\n",
    "                       inc_luminosity=True,\n",
    "                       inc_mass=True,\n",
    "                       output='{}post.png'.format(filepref))"
   ]
  },
  {
   "cell_type": "code",
   "execution_count": 53,
   "id": "70a244a6-7f55-40ec-a213-285bd299556a",
   "metadata": {},
   "outputs": [
    {
     "data": {
      "application/vnd.jupyter.widget-view+json": {
       "model_id": "f8c0e54579a94f4db530d3d749fcd32e",
       "version_major": 2,
       "version_minor": 0
      },
      "text/plain": [
       "Getting MCMC spectra:   0%|          | 0/30 [00:00<?, ?it/s]"
      ]
     },
     "metadata": {},
     "output_type": "display_data"
    },
    {
     "name": "stdout",
     "output_type": "stream",
     "text": [
      "Getting object: HIP 65426 b... [DONE]\n",
      "Calculating synthetic photometry..."
     ]
    },
    {
     "name": "stderr",
     "output_type": "stream",
     "text": [
      "/Users/bluez3303/miniconda3/envs/multinest/lib/python3.10/site-packages/species/read/read_model.py:710: UserWarning: The 'corr_len_SPHERE_IFU' parameter is not required by 'bt-settl-cifist' so the parameter will be ignored. The mandatory parameters are ['teff', 'logg'].\n",
      "  warnings.warn(\n",
      "/Users/bluez3303/miniconda3/envs/multinest/lib/python3.10/site-packages/species/read/read_model.py:710: UserWarning: The 'corr_amp_SPHERE_IFU' parameter is not required by 'bt-settl-cifist' so the parameter will be ignored. The mandatory parameters are ['teff', 'logg'].\n",
      "  warnings.warn(\n",
      "/Users/bluez3303/miniconda3/envs/multinest/lib/python3.10/site-packages/species/util/read_util.py:176: DeprecationWarning: The update_spectra function is deprecated and will be removed in a future release. Please use the update_objectbox function instead.\n",
      "  warnings.warn(\n"
     ]
    },
    {
     "name": "stdout",
     "output_type": "stream",
     "text": [
      " [DONE]\n",
      "Calculating residuals... [DONE]\n",
      "Residuals (sigma):\n",
      "   - JWST/MIRI.F1140C: -1.84\n",
      "   - JWST/MIRI.F1550C: 0.43\n",
      "   - JWST/NIRCAM.F250M: 0.42\n",
      "   - JWST/NIRCAM.F300M: 0.36\n",
      "   - JWST/NIRCAM.F356W: -0.48\n",
      "   - JWST/NIRCAM.F410M: -0.29\n",
      "   - JWST/NIRCAM.F444W: 1.71\n",
      "   - Paranal/SPHERE.IRDIS_D_H23_2: 1.97\n",
      "   - Paranal/SPHERE.IRDIS_D_H23_3: 0.43\n",
      "   - Paranal/SPHERE.IRDIS_D_K12_1: 1.65\n",
      "   - Paranal/SPHERE.IRDIS_D_K12_2: 0.33\n",
      "   - GRAVITY: min: -1.50, max: 2.48\n",
      "   - SPHERE_IFU: min: -3.05, max: 2.08\n",
      "Reduced chi2 = 0.85\n",
      "Number of degrees of freedom = 234\n",
      "Calculating synthetic photometry... [DONE]\n",
      "Plotting spectrum: results/with_gravity/HIP65426b-SED.pdf... [DONE]\n"
     ]
    }
   ],
   "source": [
    "samples = database.get_mcmc_spectra(tag=tag,\n",
    "                                    random=30,\n",
    "                                    wavel_range=None,\n",
    "                                    spec_res=500.)\n",
    "\n",
    "best = database.get_median_sample(tag=tag)\n",
    "\n",
    "read_model = species.ReadModel(model=model_choice,\n",
    "                               wavel_range=None)\n",
    "\n",
    "modelbox = read_model.get_model(model_param=best,\n",
    "                                spec_res=500.,\n",
    "                                smooth=True)\n",
    "\n",
    "objectbox = database.get_object(object_name='HIP 65426 b',\n",
    "                                inc_phot=True,\n",
    "                                inc_spec=True)\n",
    "\n",
    "objectbox = species.update_spectra(objectbox=objectbox,\n",
    "                                   model_param=best)\n",
    "\n",
    "residuals = species.get_residuals(datatype='model',\n",
    "                                  spectrum=model_choice,\n",
    "                                  parameters=best,\n",
    "                                  objectbox=objectbox,\n",
    "                                  inc_phot=True,\n",
    "                                  inc_spec=True)\n",
    "\n",
    "synphot = species.multi_photometry(datatype='model',\n",
    "                                   spectrum=model_choice,\n",
    "                                   filters=objectbox.filters,\n",
    "                                   parameters=best)\n",
    "\n",
    "species.plot_spectrum(boxes=[samples, modelbox, objectbox, synphot],\n",
    "                      filters=objectbox.filters,\n",
    "                      residuals=residuals,\n",
    "                      plot_kwargs=[{'ls': '-', 'lw': 0.2, 'color': 'gray'},\n",
    "                                   {'ls': '-', 'lw': 1., 'color': 'black'},\n",
    "                                   {'GRAVITY': {'marker': '.', 'ms': 5., 'mew': 0., 'color': 'seagreen', 'ls': 'none', 'alpha': 0.3, 'label': 'GRAVITY'},\n",
    "                                    'SPHERE_IFU': {'marker': 's', 'ms': 5., 'mew': 0., 'color': 'cornflowerblue', 'ls': '', 'alpha': 1, 'label': 'SPHERE IFU'},\n",
    "                                    'Paranal/NACO.Lp': {'marker': 's', 'ms': 5., 'color': 'tomato', 'ls': 'none', 'label':'NACO'},\n",
    "                                    'Paranal/NACO.NB405': {'marker': 's', 'markersize': 5., 'color': 'tomato', 'ls': 'none'},\n",
    "                                    'Paranal/NACO.Mp': {'marker': 's', 'markersize': 5., 'color': 'tomato', 'ls': 'none'},\n",
    "                                    'JWST/NIRCAM.F250M': {'marker': 's', 'markersize': 5., 'color': 'xkcd:mustard', 'ls': 'none', 'label':'JWST/NIRCAM'},\n",
    "                                    'JWST/NIRCAM.F300M': {'marker': 's', 'markersize': 5., 'color': 'xkcd:mustard', 'ls': 'none'},\n",
    "                                    'JWST/NIRCAM.F356W': {'marker': 's', 'markersize': 5., 'color': 'xkcd:mustard', 'ls': 'none'},\n",
    "                                    'JWST/NIRCAM.F410M': {'marker': 's', 'markersize': 5., 'color': 'xkcd:mustard', 'ls': 'none'},\n",
    "                                    'JWST/NIRCAM.F444W': {'marker': 's', 'markersize': 5., 'color': 'xkcd:mustard', 'ls': 'none'},\n",
    "                                    'JWST/MIRI.F1140C': {'marker': 's', 'markersize': 5., 'color': 'purple', 'ls': 'none', 'label':'JWST/MIRI'},\n",
    "                                    'JWST/MIRI.F1550C': {'marker': 's', 'markersize': 5., 'color': 'purple', 'ls': 'none'},\n",
    "                                    'Paranal/SPHERE.IRDIS_D_H23_2': {'marker': '^', 'ms': 5., 'mew': 0., 'color': 'cornflowerblue', 'ls': '', 'alpha': 1, 'label': 'SPHERE'},\n",
    "                                    'Paranal/SPHERE.IRDIS_D_H23_3': {'marker': '^', 'ms': 5., 'mew': 0., 'color': 'cornflowerblue', 'ls': '', 'alpha': 1},\n",
    "                                    'Paranal/SPHERE.IRDIS_D_K12_1': {'marker': '^', 'ms': 5., 'mew': 0., 'color': 'cornflowerblue', 'ls': '', 'alpha': 1},\n",
    "                                    'Paranal/SPHERE.IRDIS_D_K12_2': {'marker': '^', 'ms': 5., 'mew': 0., 'color': 'cornflowerblue', 'ls': '', 'alpha': 1},\n",
    "                                   },\n",
    "                                    None],\n",
    "                      xlim=(0.8, 20.),\n",
    "                      # ylim=(1.15e-20, 2e-16),\n",
    "                      ylim_res=(-6., 6.),\n",
    "                      scale=('log', 'linear'),\n",
    "                      offset=(-0.4, -0.05),\n",
    "                      legend=[{'loc': 'lower left', 'frameon': False, 'fontsize': 11.},\n",
    "                              {'loc': 'upper right', 'frameon': False, 'fontsize': 12.}],\n",
    "                      figsize=(12., 6.),\n",
    "                      quantity='flux density',\n",
    "                      output=filepref+'HIP65426b-SED.pdf'\n",
    "                     )"
   ]
  },
  {
   "cell_type": "code",
   "execution_count": null,
   "id": "b5de75b6",
   "metadata": {},
   "outputs": [],
   "source": []
  }
 ],
 "metadata": {
  "kernelspec": {
   "display_name": "multinest",
   "language": "python",
   "name": "python3"
  },
  "language_info": {
   "codemirror_mode": {
    "name": "ipython",
    "version": 3
   },
   "file_extension": ".py",
   "mimetype": "text/x-python",
   "name": "python",
   "nbconvert_exporter": "python",
   "pygments_lexer": "ipython3",
   "version": "3.10.9"
  },
  "vscode": {
   "interpreter": {
    "hash": "6efb16e1116801fe66cb5fbb2e877592a4abf26c259fb5d7c6845495c7ce7673"
   }
  }
 },
 "nbformat": 4,
 "nbformat_minor": 5
}
