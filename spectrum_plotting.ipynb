{
 "cells": [
  {
   "cell_type": "markdown",
   "id": "cf9f84da-88d3-4e5c-86e5-2b701cb87181",
   "metadata": {},
   "source": [
    "## Notes\n",
    "\n",
    "This notebook only contains fitting and plotting code for the observed spectrum of HIP 65426 b as of January 2023, for the ExoGRAVITY collaboration. It does not include the code used to extract or flux calibrate this spectrum. The spectrum was extracted from one night of GRAVITY data for which there is a reliable on-axis observation, namely the Jan. 7th, 2021 observation of the system. The spectrum was extracted using the currently (as of Jan. 2023) ExoGRAVITY pipeline (see Appendix B in Nowak et al. 2020 for an outline of the data reduction steps), and flux calibrated using a BT-NextGen spectrum fit to archive photometry of the host, and scaled to match the SPHERE K1 photometry (about a factor of 0.5) of the companion. For more information on this, text for your paper, or for additional plots, contact W. Balmer :~)\n",
    "\n",
    "This notebook assumes you have installed $\\texttt{species}$, a toolkit for analyzing direct imaging observations. You can therefore change the model you fit to the observations (by default, the BT-Settl-Cifist model worked well when I was working on this target for the JWST ERS paper, but there are others listed on the species webpage), the number of live points, etc. and can save plots of the posterior of fit parameters, and the spectrum. "
   ]
  },
  {
   "cell_type": "code",
   "execution_count": 1,
   "id": "b0dec025-33ec-4fb4-b5fb-d576d81a25e0",
   "metadata": {},
   "outputs": [],
   "source": [
    "import numpy as np\n",
    "import pandas as pd\n",
    "import matplotlib.pyplot as plt\n"
   ]
  },
  {
   "cell_type": "code",
   "execution_count": 2,
   "id": "efb1c20c-f11d-4b21-898c-f9de2d8ecd6f",
   "metadata": {
    "tags": []
   },
   "outputs": [],
   "source": [
    "# optional, set my personal preference for plots\n",
    "# you can use this cell to define your plotting style instead\n",
    "import seaborn as sb\n",
    "plt.rcParams['font.family'] = 'monospace'   # Fonts\n",
    "plt.rcParams['font.monospace'] = 'DejaVu Sans Mono'\n",
    "sb.set_context(\"paper\")"
   ]
  },
  {
   "cell_type": "code",
   "execution_count": 3,
   "id": "15476709-f65a-45a7-b768-4bc019749cd8",
   "metadata": {},
   "outputs": [
    {
     "name": "stderr",
     "output_type": "stream",
     "text": [
      "/data/user/sblunt/miniconda3/envs/python3.8/lib/python3.8/site-packages/species/analysis/emission_line.py:18: UserWarning: UltraNest could not be imported. Perhaps because cython was not correctly compiled?\n",
      "  warnings.warn(\n",
      "WARNING: AstropyDeprecationWarning: The update_default_config function is deprecated and may be removed in a future version. [astroquery._astropy_init]\n"
     ]
    },
    {
     "name": "stdout",
     "output_type": "stream",
     "text": [
      "\n",
      "ERROR:   Could not load MultiNest library \"libmultinest.so\"\n",
      "ERROR:   You have to build it first,\n",
      "ERROR:   and point the LD_LIBRARY_PATH environment variable to it!\n",
      "ERROR:   manual: http://johannesbuchner.github.com/PyMultiNest/install.html\n",
      "\n",
      "\n",
      "ERROR:   Could not load MultiNest library: libmultinest.so\n",
      "ERROR:   You have to build MultiNest,\n",
      "ERROR:   and point the LD_LIBRARY_PATH environment variable to it!\n",
      "ERROR:   manual: http://johannesbuchner.github.com/PyMultiNest/install.html\n",
      "\n",
      "problem: libmultinest.so: cannot open shared object file: No such file or directory\n",
      "\n",
      "ERROR:   Could not load MultiNest library \"libmultinest.so\"\n",
      "ERROR:   You have to build it first,\n",
      "ERROR:   and point the LD_LIBRARY_PATH environment variable to it!\n",
      "ERROR:   manual: http://johannesbuchner.github.com/PyMultiNest/install.html\n",
      "\n",
      "\n",
      "ERROR:   Could not load MultiNest library: libmultinest.so\n",
      "ERROR:   You have to build MultiNest,\n",
      "ERROR:   and point the LD_LIBRARY_PATH environment variable to it!\n",
      "ERROR:   manual: http://johannesbuchner.github.com/PyMultiNest/install.html\n",
      "\n",
      "problem: libmultinest.so: cannot open shared object file: No such file or directory\n",
      "Initiating species v0.5.4... [DONE]\n",
      "Database: /data/user/sblunt/HIP_65426/species_database.hdf5\n",
      "Data folder: /data/user/sblunt/HIP_65426/data\n",
      "Working folder: /data/user/sblunt/HIP_65426\n",
      "Grid interpolation method: linear\n"
     ]
    },
    {
     "name": "stderr",
     "output_type": "stream",
     "text": [
      "/data/user/sblunt/miniconda3/envs/python3.8/lib/python3.8/site-packages/species/analysis/fit_model.py:18: UserWarning: UltraNest could not be imported. Perhaps because cython was not correctly compiled?\n",
      "  warnings.warn(\n",
      "/data/user/sblunt/miniconda3/envs/python3.8/lib/python3.8/site-packages/species/analysis/fit_model.py:26: UserWarning: PyMultiNest could not be imported. Perhaps because MultiNest was not build and/or found at the LD_LIBRARY_PATH (Linux) or DYLD_LIBRARY_PATH (Mac)?\n",
      "  warnings.warn(\n",
      "/data/user/sblunt/miniconda3/envs/python3.8/lib/python3.8/site-packages/species/analysis/retrieval.py:26: UserWarning: PyMultiNest could not be imported. Perhaps because MultiNest was not build and/or found at the LD_LIBRARY_PATH (Linux) or DYLD_LIBRARY_PATH (Mac)?\n",
      "  warnings.warn(\n"
     ]
    }
   ],
   "source": [
    "# initialize species\n",
    "# this notebook will work, even if you have a clean installation of the package\n",
    "# see https://species.readthedocs.io/ for more\n",
    "import species\n",
    "species.SpeciesInit()\n",
    "database = species.Database()"
   ]
  },
  {
   "cell_type": "code",
   "execution_count": null,
   "id": "8136200b-d69b-4c8b-bbb1-d3f33d593825",
   "metadata": {},
   "outputs": [],
   "source": [
    "# can determine your own filepath based on your directory structure\n",
    "filepref = './data'"
   ]
  },
  {
   "cell_type": "code",
   "execution_count": null,
   "id": "7bf2bfb4-079a-4c16-9db9-8db596ae8d3d",
   "metadata": {},
   "outputs": [],
   "source": [
    "# download and shape up the HIP 65426 b SPHERE spectrum\n",
    "import urllib.request\n",
    "\n",
    "urllib.request.urlretrieve('https://home.strw.leidenuniv.nl/~stolker/species/spectra/hip65426_sphere_yjh.dat', filepref+'hip65426_sphere_yjh.dat')\n",
    "\n",
    "sphere_yjh = pd.read_csv(filepref+'hip65426_sphere_yjh.dat', delim_whitespace=True, comment='#', names=['l','f','fe'])\n",
    "sphere_yjh = sphere_yjh[2:]\n",
    "sphere_yjh.to_csv(filepref+'hip65426_sphere_yjh.dat', sep=' ', header=False, index=False)"
   ]
  },
  {
   "cell_type": "code",
   "execution_count": null,
   "id": "1f3690f9-1f70-4c51-aaaf-898b9eab9bd8",
   "metadata": {},
   "outputs": [],
   "source": [
    "plx = (9.3031,0.0346)"
   ]
  },
  {
   "cell_type": "code",
   "execution_count": null,
   "id": "2191409d-ffcf-4967-88f5-0232acfe3543",
   "metadata": {
    "collapsed": true,
    "jupyter": {
     "outputs_hidden": true
    },
    "tags": []
   },
   "outputs": [],
   "source": [
    "database.add_object('HIP 65426 b',\n",
    "                    parallax=plx,\n",
    "                    app_mag=None,\n",
    "                    flux_density=None,\n",
    "                    spectrum={\n",
    "                            #   'GRAVITY': (filepref+'HIP65426B_GRAVITYK_spectrum_fluxcal_scaled.fits', filepref+'HIP65426B_GRAVITYK_spectrum_fluxcal_scaled.fits', 500.),\n",
    "                              'SPHERE_IFU': (filepref+'hip65426_sphere_yjh.dat', None, 40.),\n",
    "                             },\n",
    "                    deredden=None)"
   ]
  },
  {
   "cell_type": "code",
   "execution_count": null,
   "id": "807d765b-5b14-401b-8eb3-5cc128294a79",
   "metadata": {
    "collapsed": true,
    "jupyter": {
     "outputs_hidden": true
    },
    "tags": []
   },
   "outputs": [],
   "source": [
    "# add archival companion photometry\n",
    "database.add_companion(name='HIP 65426 b')"
   ]
  },
  {
   "cell_type": "code",
   "execution_count": null,
   "id": "a2567437-b7a4-4409-8fa5-cc4308d00db1",
   "metadata": {
    "collapsed": true,
    "jupyter": {
     "outputs_hidden": true
    },
    "tags": []
   },
   "outputs": [],
   "source": [
    "database.add_object('HIP 65426 b',\n",
    "                    parallax=plx,\n",
    "                    app_mag={#Carter et al. ERS vegamag\n",
    "'JWST/NIRCAM.F250M':(17.163, 0.140),\n",
    "'JWST/NIRCAM.F300M':(16.827, 0.117),\n",
    "'JWST/NIRCAM.F356W':(16.067, 0.115),\n",
    "'JWST/NIRCAM.F410M':(15.781, 0.120),\n",
    "'JWST/NIRCAM.F444W':(15.701, 0.126),\n",
    "'JWST/MIRI.F1140C':(15.357, 0.093),\n",
    "'JWST/MIRI.F1550C':(15.197, 0.177)\n",
    "                            },\n",
    "                    spectrum=None,\n",
    "                    deredden=None)\n",
    "\n",
    "# optionally, can include to remove NACO photometry that disagrees with JWST\n",
    "# database.delete_data('objects/HIP 65426 b/Paranal/NACO.Lp')\n",
    "# database.delete_data('objects/HIP 65426 b/Paranal/NACO.NB405')\n",
    "# database.delete_data('objects/HIP 65426 b/Paranal/NACO.Mp')\n"
   ]
  },
  {
   "cell_type": "code",
   "execution_count": null,
   "id": "3ea07ffd-49ec-4295-8993-62229841ce62",
   "metadata": {},
   "outputs": [],
   "source": [
    "model_choice = 'bt-settl-cifist'"
   ]
  },
  {
   "cell_type": "code",
   "execution_count": null,
   "id": "c0c6a144-6e60-4fb3-8fc4-0433977888e4",
   "metadata": {},
   "outputs": [],
   "source": [
    "database.add_model(model=model_choice, teff_range=(1000., 1700.))"
   ]
  },
  {
   "cell_type": "code",
   "execution_count": null,
   "id": "4f4209df-e716-41fd-bc6a-dcd74081376f",
   "metadata": {
    "tags": []
   },
   "outputs": [],
   "source": [
    "inc_spec = True\n",
    "\n",
    "inc_phot = [\n",
    "'JWST/NIRCAM.F250M',\n",
    "'JWST/NIRCAM.F300M',\n",
    "'JWST/NIRCAM.F356W',\n",
    "'JWST/NIRCAM.F410M',\n",
    "'JWST/NIRCAM.F444W',\n",
    "'JWST/MIRI.F1140C',\n",
    "'JWST/MIRI.F1550C',\n",
    "'Paranal/SPHERE.IRDIS_D_H23_2',\n",
    "'Paranal/SPHERE.IRDIS_D_H23_3',\n",
    "'Paranal/SPHERE.IRDIS_D_K12_1',\n",
    "'Paranal/SPHERE.IRDIS_D_K12_2',\n",
    "           ]\n",
    "\n",
    "fit = species.FitModel(object_name='HIP 65426 b',\n",
    "                       model=model_choice,\n",
    "                       bounds={# 'teff': (1200., 1700.),\n",
    "                               # 'radius': (0.5, 2.),\n",
    "                               # 'SPHERE_IFU': ((0.5, 1.5), None),\n",
    "                               # 'GRAVITY': ((0.5, 1.5), None),\n",
    "                              },\n",
    "                       inc_phot=inc_phot,\n",
    "                       inc_spec=inc_spec,\n",
    "                       fit_corr=['SPHERE_IFU'],\n",
    "                       weights=None)\n"
   ]
  },
  {
   "cell_type": "code",
   "execution_count": null,
   "id": "b291e74b-c5df-4dbf-b80c-c661851b0f7f",
   "metadata": {},
   "outputs": [],
   "source": [
    "tag='hip65426-plusjwst'"
   ]
  },
  {
   "cell_type": "code",
   "execution_count": null,
   "id": "0ec757d6-1200-4279-bb44-91d416e1f78d",
   "metadata": {
    "tags": []
   },
   "outputs": [],
   "source": [
    "fit.run_multinest(tag=tag,\n",
    "                  n_live_points=300,\n",
    "                  output='multinest/',\n",
    "                  prior={'mass': (7.1, 1.1)} # prior from evol model, can include or disregard\n",
    "                 )"
   ]
  },
  {
   "cell_type": "code",
   "execution_count": null,
   "id": "b34bb8e4-f321-4334-b5bc-67ff409422df",
   "metadata": {},
   "outputs": [],
   "source": [
    "post = species.plot_posterior(tag=tag,\n",
    "                       offset=(-0.3 , -0.3),\n",
    "                       # title_fmt=['.0f', '.2f', '.2f', '.2f', '.2f', '.2f', '.3f', '.1f'],\n",
    "                       inc_luminosity=True,\n",
    "                       inc_mass=True,\n",
    "                       output=None)"
   ]
  },
  {
   "cell_type": "code",
   "execution_count": null,
   "id": "70a244a6-7f55-40ec-a213-285bd299556a",
   "metadata": {},
   "outputs": [],
   "source": [
    "samples = database.get_mcmc_spectra(tag=tag,\n",
    "                                    random=30,\n",
    "                                    wavel_range=None,\n",
    "                                    spec_res=500.)\n",
    "\n",
    "best = database.get_median_sample(tag=tag)\n",
    "\n",
    "read_model = species.ReadModel(model=model_choice,\n",
    "                               wavel_range=None)\n",
    "\n",
    "modelbox = read_model.get_model(model_param=best,\n",
    "                                spec_res=500.,\n",
    "                                smooth=True)\n",
    "\n",
    "objectbox = database.get_object(object_name='HIP 65426 b',\n",
    "                                inc_phot=True,\n",
    "                                inc_spec=True)\n",
    "\n",
    "objectbox = species.update_spectra(objectbox=objectbox,\n",
    "                                   model_param=best)\n",
    "\n",
    "residuals = species.get_residuals(datatype='model',\n",
    "                                  spectrum=model_choice,\n",
    "                                  parameters=best,\n",
    "                                  objectbox=objectbox,\n",
    "                                  inc_phot=True,\n",
    "                                  inc_spec=True)\n",
    "\n",
    "synphot = species.multi_photometry(datatype='model',\n",
    "                                   spectrum=model_choice,\n",
    "                                   filters=objectbox.filters,\n",
    "                                   parameters=best)\n",
    "\n",
    "species.plot_spectrum(boxes=[samples, modelbox, objectbox, synphot],\n",
    "                      filters=objectbox.filters,\n",
    "                      residuals=residuals,\n",
    "                      plot_kwargs=[{'ls': '-', 'lw': 0.2, 'color': 'gray'},\n",
    "                                   {'ls': '-', 'lw': 1., 'color': 'black'},\n",
    "                                   {'GRAVITY': {'marker': '.', 'ms': 5., 'mew': 0., 'color': 'seagreen', 'ls': 'none', 'alpha': 0.3, 'label': 'GRAVITY'},\n",
    "                                    'SPHERE_IFU': {'marker': 's', 'ms': 5., 'mew': 0., 'color': 'cornflowerblue', 'ls': '', 'alpha': 1, 'label': 'SPHERE IFU'},\n",
    "                                    'Paranal/NACO.Lp': {'marker': 's', 'ms': 5., 'color': 'tomato', 'ls': 'none', 'label':'NACO'},\n",
    "                                    'Paranal/NACO.NB405': {'marker': 's', 'markersize': 5., 'color': 'tomato', 'ls': 'none'},\n",
    "                                    'Paranal/NACO.Mp': {'marker': 's', 'markersize': 5., 'color': 'tomato', 'ls': 'none'},\n",
    "                                    'JWST/NIRCAM.F250M': {'marker': 's', 'markersize': 5., 'color': 'xkcd:mustard', 'ls': 'none', 'label':'NIRCAM'},\n",
    "                                    'JWST/NIRCAM.F300M': {'marker': 's', 'markersize': 5., 'color': 'xkcd:mustard', 'ls': 'none'},\n",
    "                                    'JWST/NIRCAM.F356W': {'marker': 's', 'markersize': 5., 'color': 'xkcd:mustard', 'ls': 'none'},\n",
    "                                    'JWST/NIRCAM.F410M': {'marker': 's', 'markersize': 5., 'color': 'xkcd:mustard', 'ls': 'none'},\n",
    "                                    'JWST/NIRCAM.F444W': {'marker': 's', 'markersize': 5., 'color': 'xkcd:mustard', 'ls': 'none'},\n",
    "                                    'JWST/MIRI.F1140C': {'marker': 's', 'markersize': 5., 'color': 'purple', 'ls': 'none', 'label':'MIRI'},\n",
    "                                    'JWST/MIRI.F1550C': {'marker': 's', 'markersize': 5., 'color': 'purple', 'ls': 'none'}\n",
    "                                   },\n",
    "                                    None],\n",
    "                      xlim=(0.8, 20.),\n",
    "                      # ylim=(1.15e-20, 2e-16),\n",
    "                      ylim_res=(-6., 6.),\n",
    "                      scale=('log', 'linear'),\n",
    "                      offset=(-0.4, -0.05),\n",
    "                      legend=[{'loc': 'lower left', 'frameon': False, 'fontsize': 11.},\n",
    "                              {'loc': 'upper right', 'frameon': False, 'fontsize': 12.}],\n",
    "                      figsize=(12., 6.),\n",
    "                      quantity='flux density',\n",
    "                      output=filepref+'HIP65426b-SED.pdf'\n",
    "                     )"
   ]
  }
 ],
 "metadata": {
  "kernelspec": {
   "display_name": "python3.8",
   "language": "python",
   "name": "python3"
  },
  "language_info": {
   "codemirror_mode": {
    "name": "ipython",
    "version": 3
   },
   "file_extension": ".py",
   "mimetype": "text/x-python",
   "name": "python",
   "nbconvert_exporter": "python",
   "pygments_lexer": "ipython3",
   "version": "3.8.5"
  },
  "vscode": {
   "interpreter": {
    "hash": "154d87402400beea08d12f3196cbb2d5eec809167b50e0856af6d5a1d0d51a1a"
   }
  }
 },
 "nbformat": 4,
 "nbformat_minor": 5
}
